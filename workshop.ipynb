{
 "cells": [
  {
   "cell_type": "markdown",
   "metadata": {},
   "source": [
    "# 1. VAR Process\n",
    "\n",
    "In the data `raotb16.csv` we have some macroeconomic data.\n",
    "\n",
    "1. Test which series Granger cause each other.\n",
    "\n",
    "2. Test which series are stationary\n",
    "\n",
    "3. Fit a VAR on the system of time series. Find the best number of lags. Don't forget to differentiate the series that need it.\n",
    "\n",
    "4. Fit a VAR on everything except the last 12 months (4 quarters) of the data. Backtest your model against the actual last year in the data. Plot the predictions against the data for each series."
   ]
  },
  {
   "cell_type": "code",
   "execution_count": 1,
   "metadata": {},
   "outputs": [],
   "source": [
    "import pandas as pd\n",
    "import numpy as np\n",
    "%matplotlib inline\n",
    "\n",
    "from statsmodels.tsa.stattools import adfuller, grangercausalitytests\n",
    "from statsmodels.tsa.api import VAR\n",
    "\n",
    "import warnings\n",
    "warnings.filterwarnings(\"ignore\")"
   ]
  },
  {
   "cell_type": "code",
   "execution_count": 2,
   "metadata": {},
   "outputs": [],
   "source": [
    "df = pd.read_csv('data/raotb16.csv',index_col='date',parse_dates=True)\n",
    "df.index.freq = 'QS'"
   ]
  },
  {
   "cell_type": "code",
   "execution_count": 3,
   "metadata": {},
   "outputs": [
    {
     "name": "stdout",
     "output_type": "stream",
     "text": [
      "\n",
      "Granger Causality\n",
      "number of lags (no zero) 1\n",
      "ssr based F test:         F=0.3729  , p=0.5426  , df_denom=119, df_num=1\n",
      "ssr based chi2 test:   chi2=0.3823  , p=0.5364  , df=1\n",
      "likelihood ratio test: chi2=0.3817  , p=0.5367  , df=1\n",
      "parameter F test:         F=0.3729  , p=0.5426  , df_denom=119, df_num=1\n",
      "\n",
      "Granger Causality\n",
      "number of lags (no zero) 2\n",
      "ssr based F test:         F=4.6201  , p=0.0117  , df_denom=116, df_num=2\n",
      "ssr based chi2 test:   chi2=9.6386  , p=0.0081  , df=2\n",
      "likelihood ratio test: chi2=9.2739  , p=0.0097  , df=2\n",
      "parameter F test:         F=4.6201  , p=0.0117  , df_denom=116, df_num=2\n",
      "\n",
      "Granger Causality\n",
      "number of lags (no zero) 3\n",
      "ssr based F test:         F=4.0976  , p=0.0084  , df_denom=113, df_num=3\n",
      "ssr based chi2 test:   chi2=13.0544 , p=0.0045  , df=3\n",
      "likelihood ratio test: chi2=12.3920 , p=0.0062  , df=3\n",
      "parameter F test:         F=4.0976  , p=0.0084  , df_denom=113, df_num=3\n",
      "\n",
      "Granger Causality\n",
      "number of lags (no zero) 4\n",
      "ssr based F test:         F=5.4664  , p=0.0005  , df_denom=110, df_num=4\n",
      "ssr based chi2 test:   chi2=23.6547 , p=0.0001  , df=4\n",
      "likelihood ratio test: chi2=21.5751 , p=0.0002  , df=4\n",
      "parameter F test:         F=5.4664  , p=0.0005  , df_denom=110, df_num=4\n"
     ]
    }
   ],
   "source": [
    "grangercausalitytests(df[['rgnp','ulc']],maxlag=4);"
   ]
  },
  {
   "cell_type": "code",
   "execution_count": 4,
   "metadata": {},
   "outputs": [
    {
     "name": "stdout",
     "output_type": "stream",
     "text": [
      "\n",
      "Granger Causality\n",
      "number of lags (no zero) 1\n",
      "ssr based F test:         F=8.6205  , p=0.0040  , df_denom=119, df_num=1\n",
      "ssr based chi2 test:   chi2=8.8378  , p=0.0030  , df=1\n",
      "likelihood ratio test: chi2=8.5324  , p=0.0035  , df=1\n",
      "parameter F test:         F=8.6205  , p=0.0040  , df_denom=119, df_num=1\n"
     ]
    }
   ],
   "source": [
    "grangercausalitytests(df[['gdfcf','gdfce']],maxlag=1);"
   ]
  },
  {
   "cell_type": "code",
   "execution_count": 5,
   "metadata": {},
   "outputs": [
    {
     "name": "stdout",
     "output_type": "stream",
     "text": [
      "\n",
      "Granger Causality\n",
      "number of lags (no zero) 1\n",
      "ssr based F test:         F=63.4905 , p=0.0000  , df_denom=119, df_num=1\n",
      "ssr based chi2 test:   chi2=65.0911 , p=0.0000  , df=1\n",
      "likelihood ratio test: chi2=52.1641 , p=0.0000  , df=1\n",
      "parameter F test:         F=63.4905 , p=0.0000  , df_denom=119, df_num=1\n"
     ]
    }
   ],
   "source": [
    "grangercausalitytests(df[['gdf','ulc']],maxlag=1);"
   ]
  },
  {
   "cell_type": "code",
   "execution_count": 6,
   "metadata": {},
   "outputs": [
    {
     "name": "stdout",
     "output_type": "stream",
     "text": [
      "\n",
      "Granger Causality\n",
      "number of lags (no zero) 1\n",
      "ssr based F test:         F=81.2517 , p=0.0000  , df_denom=119, df_num=1\n",
      "ssr based chi2 test:   chi2=83.3001 , p=0.0000  , df=1\n",
      "likelihood ratio test: chi2=63.4951 , p=0.0000  , df=1\n",
      "parameter F test:         F=81.2517 , p=0.0000  , df_denom=119, df_num=1\n"
     ]
    }
   ],
   "source": [
    "grangercausalitytests(df[['gdfco','gdfim']],maxlag=1);"
   ]
  },
  {
   "cell_type": "code",
   "execution_count": 7,
   "metadata": {},
   "outputs": [
    {
     "name": "stdout",
     "output_type": "stream",
     "text": [
      "\n",
      "Granger Causality\n",
      "number of lags (no zero) 1\n",
      "ssr based F test:         F=0.2517  , p=0.6168  , df_denom=119, df_num=1\n",
      "ssr based chi2 test:   chi2=0.2580  , p=0.6115  , df=1\n",
      "likelihood ratio test: chi2=0.2578  , p=0.6117  , df=1\n",
      "parameter F test:         F=0.2517  , p=0.6168  , df_denom=119, df_num=1\n",
      "\n",
      "Granger Causality\n",
      "number of lags (no zero) 2\n",
      "ssr based F test:         F=0.4470  , p=0.6406  , df_denom=116, df_num=2\n",
      "ssr based chi2 test:   chi2=0.9325  , p=0.6273  , df=2\n",
      "likelihood ratio test: chi2=0.9290  , p=0.6285  , df=2\n",
      "parameter F test:         F=0.4470  , p=0.6406  , df_denom=116, df_num=2\n",
      "\n",
      "Granger Causality\n",
      "number of lags (no zero) 3\n",
      "ssr based F test:         F=1.6113  , p=0.1907  , df_denom=113, df_num=3\n",
      "ssr based chi2 test:   chi2=5.1334  , p=0.1623  , df=3\n",
      "likelihood ratio test: chi2=5.0267  , p=0.1699  , df=3\n",
      "parameter F test:         F=1.6113  , p=0.1907  , df_denom=113, df_num=3\n",
      "\n",
      "Granger Causality\n",
      "number of lags (no zero) 4\n",
      "ssr based F test:         F=2.1569  , p=0.0786  , df_denom=110, df_num=4\n",
      "ssr based chi2 test:   chi2=9.3333  , p=0.0533  , df=4\n",
      "likelihood ratio test: chi2=8.9854  , p=0.0615  , df=4\n",
      "parameter F test:         F=2.1569  , p=0.0786  , df_denom=110, df_num=4\n",
      "\n",
      "Granger Causality\n",
      "number of lags (no zero) 5\n",
      "ssr based F test:         F=2.8364  , p=0.0191  , df_denom=107, df_num=5\n",
      "ssr based chi2 test:   chi2=15.6398 , p=0.0080  , df=5\n",
      "likelihood ratio test: chi2=14.6867 , p=0.0118  , df=5\n",
      "parameter F test:         F=2.8364  , p=0.0191  , df_denom=107, df_num=5\n"
     ]
    }
   ],
   "source": [
    "grangercausalitytests(df[['rgnp','gdfcf']],maxlag=5);"
   ]
  },
  {
   "cell_type": "code",
   "execution_count": 8,
   "metadata": {},
   "outputs": [
    {
     "name": "stdout",
     "output_type": "stream",
     "text": [
      "\n",
      "Granger Causality\n",
      "number of lags (no zero) 1\n",
      "ssr based F test:         F=0.0809  , p=0.7766  , df_denom=119, df_num=1\n",
      "ssr based chi2 test:   chi2=0.0829  , p=0.7734  , df=1\n",
      "likelihood ratio test: chi2=0.0829  , p=0.7735  , df=1\n",
      "parameter F test:         F=0.0809  , p=0.7766  , df_denom=119, df_num=1\n",
      "\n",
      "Granger Causality\n",
      "number of lags (no zero) 2\n",
      "ssr based F test:         F=1.4103  , p=0.2482  , df_denom=116, df_num=2\n",
      "ssr based chi2 test:   chi2=2.9421  , p=0.2297  , df=2\n",
      "likelihood ratio test: chi2=2.9069  , p=0.2338  , df=2\n",
      "parameter F test:         F=1.4103  , p=0.2482  , df_denom=116, df_num=2\n",
      "\n",
      "Granger Causality\n",
      "number of lags (no zero) 3\n",
      "ssr based F test:         F=0.9068  , p=0.4402  , df_denom=113, df_num=3\n",
      "ssr based chi2 test:   chi2=2.8891  , p=0.4090  , df=3\n",
      "likelihood ratio test: chi2=2.8548  , p=0.4146  , df=3\n",
      "parameter F test:         F=0.9068  , p=0.4402  , df_denom=113, df_num=3\n",
      "\n",
      "Granger Causality\n",
      "number of lags (no zero) 4\n",
      "ssr based F test:         F=1.5294  , p=0.1986  , df_denom=110, df_num=4\n",
      "ssr based chi2 test:   chi2=6.6180  , p=0.1575  , df=4\n",
      "likelihood ratio test: chi2=6.4405  , p=0.1686  , df=4\n",
      "parameter F test:         F=1.5294  , p=0.1986  , df_denom=110, df_num=4\n",
      "\n",
      "Granger Causality\n",
      "number of lags (no zero) 5\n",
      "ssr based F test:         F=2.6479  , p=0.0268  , df_denom=107, df_num=5\n",
      "ssr based chi2 test:   chi2=14.6008 , p=0.0122  , df=5\n",
      "likelihood ratio test: chi2=13.7657 , p=0.0172  , df=5\n",
      "parameter F test:         F=2.6479  , p=0.0268  , df_denom=107, df_num=5\n"
     ]
    }
   ],
   "source": [
    "grangercausalitytests(df[['rgnp','gdfce']],maxlag=5);"
   ]
  },
  {
   "cell_type": "code",
   "execution_count": 9,
   "metadata": {},
   "outputs": [],
   "source": [
    "def adf_test(series,title=''):\n",
    "    print(f'ADF Test:{title}')\n",
    "    result= adfuller(series.dropna(),autolag='AIC')\n",
    "    labels = ['ADF test statistics','p-value','# lag used', '# observation']\n",
    "    out = pd.Series(result[0:4],index = labels)\n",
    "    \n",
    "    for key,val in result[4].items():\n",
    "        out[f'critical value ({key})'] = val\n",
    "        \n",
    "    print(out.to_string())\n",
    "    \n",
    "    if result[1] <= 0.05:\n",
    "        print(\"Strong evidence against the null hypothesis\")\n",
    "        print(\"Reject the null hypothesis\")\n",
    "        print(\"Data has no unit root and is stationary\")\n",
    "    else:\n",
    "        print(\"Weak evidence against the null hypothesis\")\n",
    "        print(\"Fail to reject the null hypothesis\")\n",
    "        print(\"Data has a unit root and is non-stationary\")"
   ]
  },
  {
   "cell_type": "code",
   "execution_count": 10,
   "metadata": {},
   "outputs": [
    {
     "name": "stdout",
     "output_type": "stream",
     "text": [
      "ADF Test:\n",
      "ADF test statistics       0.641882\n",
      "p-value                   0.988604\n",
      "# lag used                2.000000\n",
      "# observation           120.000000\n",
      "critical value (1%)      -3.486056\n",
      "critical value (5%)      -2.885943\n",
      "critical value (10%)     -2.579785\n",
      "Weak evidence against the null hypothesis\n",
      "Fail to reject the null hypothesis\n",
      "Data has a unit root and is non-stationary\n",
      "ADF Test:\n",
      "ADF test statistics       1.274320\n",
      "p-value                   0.996461\n",
      "# lag used                1.000000\n",
      "# observation           121.000000\n",
      "critical value (1%)      -3.485585\n",
      "critical value (5%)      -2.885739\n",
      "critical value (10%)     -2.579676\n",
      "Weak evidence against the null hypothesis\n",
      "Fail to reject the null hypothesis\n",
      "Data has a unit root and is non-stationary\n",
      "ADF Test:\n",
      "ADF test statistics       1.396716\n",
      "p-value                   0.997099\n",
      "# lag used                2.000000\n",
      "# observation           120.000000\n",
      "critical value (1%)      -3.486056\n",
      "critical value (5%)      -2.885943\n",
      "critical value (10%)     -2.579785\n",
      "Weak evidence against the null hypothesis\n",
      "Fail to reject the null hypothesis\n",
      "Data has a unit root and is non-stationary\n",
      "ADF Test:\n",
      "ADF test statistics       0.576191\n",
      "p-value                   0.987014\n",
      "# lag used                5.000000\n",
      "# observation           117.000000\n",
      "critical value (1%)      -3.487517\n",
      "critical value (5%)      -2.886578\n",
      "critical value (10%)     -2.580124\n",
      "Weak evidence against the null hypothesis\n",
      "Fail to reject the null hypothesis\n",
      "Data has a unit root and is non-stationary\n",
      "ADF Test:\n",
      "ADF test statistics       1.112860\n",
      "p-value                   0.995325\n",
      "# lag used                7.000000\n",
      "# observation           115.000000\n",
      "critical value (1%)      -3.488535\n",
      "critical value (5%)      -2.887020\n",
      "critical value (10%)     -2.580360\n",
      "Weak evidence against the null hypothesis\n",
      "Fail to reject the null hypothesis\n",
      "Data has a unit root and is non-stationary\n",
      "ADF Test:\n",
      "ADF test statistics      -0.198720\n",
      "p-value                   0.938674\n",
      "# lag used                1.000000\n",
      "# observation           121.000000\n",
      "critical value (1%)      -3.485585\n",
      "critical value (5%)      -2.885739\n",
      "critical value (10%)     -2.579676\n",
      "Weak evidence against the null hypothesis\n",
      "Fail to reject the null hypothesis\n",
      "Data has a unit root and is non-stationary\n",
      "ADF Test:\n",
      "ADF test statistics       1.669255\n",
      "p-value                   0.998051\n",
      "# lag used                9.000000\n",
      "# observation           113.000000\n",
      "critical value (1%)      -3.489590\n",
      "critical value (5%)      -2.887477\n",
      "critical value (10%)     -2.580604\n",
      "Weak evidence against the null hypothesis\n",
      "Fail to reject the null hypothesis\n",
      "Data has a unit root and is non-stationary\n",
      "ADF Test:\n",
      "ADF test statistics      -0.815918\n",
      "p-value                   0.814402\n",
      "# lag used               13.000000\n",
      "# observation           109.000000\n",
      "critical value (1%)      -3.491818\n",
      "critical value (5%)      -2.888444\n",
      "critical value (10%)     -2.581120\n",
      "Weak evidence against the null hypothesis\n",
      "Fail to reject the null hypothesis\n",
      "Data has a unit root and is non-stationary\n"
     ]
    }
   ],
   "source": [
    "lst = ['rgnp', 'pgnp', 'ulc', 'gdfco', 'gdf', 'gdfim', 'gdfcf', 'gdfce']\n",
    "for item in lst:\n",
    "    adf_test(df[item])"
   ]
  },
  {
   "cell_type": "code",
   "execution_count": 11,
   "metadata": {},
   "outputs": [
    {
     "data": {
      "text/plain": [
       "<matplotlib.axes._subplots.AxesSubplot at 0x1c8bbc7bd60>"
      ]
     },
     "execution_count": 11,
     "metadata": {},
     "output_type": "execute_result"
    },
    {
     "data": {
      "image/png": "[encoded data removed]",
      "text/plain": [
       "<Figure size 864x576 with 1 Axes>"
      ]
     },
     "metadata": {
      "needs_background": "light"
     },
     "output_type": "display_data"
    }
   ],
   "source": [
    "df.plot(figsize=(12,8))"
   ]
  },
  {
   "cell_type": "code",
   "execution_count": 12,
   "metadata": {},
   "outputs": [],
   "source": [
    "df_transform = df.diff()"
   ]
  },
  {
   "cell_type": "code",
   "execution_count": 13,
   "metadata": {
    "scrolled": true
   },
   "outputs": [
    {
     "name": "stdout",
     "output_type": "stream",
     "text": [
      "ADF Test:\n",
      "ADF test statistics      -5.427594\n",
      "p-value                   0.000003\n",
      "# lag used                1.000000\n",
      "# observation           120.000000\n",
      "critical value (1%)      -3.486056\n",
      "critical value (5%)      -2.885943\n",
      "critical value (10%)     -2.579785\n",
      "Strong evidence against the null hypothesis\n",
      "Reject the null hypothesis\n",
      "Data has no unit root and is stationary\n",
      "ADF Test:\n",
      "ADF test statistics      -1.758967\n",
      "p-value                   0.401015\n",
      "# lag used                0.000000\n",
      "# observation           121.000000\n",
      "critical value (1%)      -3.485585\n",
      "critical value (5%)      -2.885739\n",
      "critical value (10%)     -2.579676\n",
      "Weak evidence against the null hypothesis\n",
      "Fail to reject the null hypothesis\n",
      "Data has a unit root and is non-stationary\n",
      "ADF Test:\n",
      "ADF test statistics      -3.576080\n",
      "p-value                   0.006235\n",
      "# lag used                1.000000\n",
      "# observation           120.000000\n",
      "critical value (1%)      -3.486056\n",
      "critical value (5%)      -2.885943\n",
      "critical value (10%)     -2.579785\n",
      "Strong evidence against the null hypothesis\n",
      "Reject the null hypothesis\n",
      "Data has no unit root and is stationary\n",
      "ADF Test:\n",
      "ADF test statistics      -1.092954\n",
      "p-value                   0.717874\n",
      "# lag used                4.000000\n",
      "# observation           117.000000\n",
      "critical value (1%)      -3.487517\n",
      "critical value (5%)      -2.886578\n",
      "critical value (10%)     -2.580124\n",
      "Weak evidence against the null hypothesis\n",
      "Fail to reject the null hypothesis\n",
      "Data has a unit root and is non-stationary\n",
      "ADF Test:\n",
      "ADF test statistics      -1.399803\n",
      "p-value                   0.582370\n",
      "# lag used               12.000000\n",
      "# observation           109.000000\n",
      "critical value (1%)      -3.491818\n",
      "critical value (5%)      -2.888444\n",
      "critical value (10%)     -2.581120\n",
      "Weak evidence against the null hypothesis\n",
      "Fail to reject the null hypothesis\n",
      "Data has a unit root and is non-stationary\n",
      "ADF Test:\n",
      "ADF test statistics      -4.244421\n",
      "p-value                   0.000554\n",
      "# lag used                0.000000\n",
      "# observation           121.000000\n",
      "critical value (1%)      -3.485585\n",
      "critical value (5%)      -2.885739\n",
      "critical value (10%)     -2.579676\n",
      "Strong evidence against the null hypothesis\n",
      "Reject the null hypothesis\n",
      "Data has no unit root and is stationary\n",
      "ADF Test:\n",
      "ADF test statistics      -1.823666\n",
      "p-value                   0.368777\n",
      "# lag used                6.000000\n",
      "# observation           115.000000\n",
      "critical value (1%)      -3.488535\n",
      "critical value (5%)      -2.887020\n",
      "critical value (10%)     -2.580360\n",
      "Weak evidence against the null hypothesis\n",
      "Fail to reject the null hypothesis\n",
      "Data has a unit root and is non-stationary\n",
      "ADF Test:\n",
      "ADF test statistics      -2.044710\n",
      "p-value                   0.267320\n",
      "# lag used               12.000000\n",
      "# observation           109.000000\n",
      "critical value (1%)      -3.491818\n",
      "critical value (5%)      -2.888444\n",
      "critical value (10%)     -2.581120\n",
      "Weak evidence against the null hypothesis\n",
      "Fail to reject the null hypothesis\n",
      "Data has a unit root and is non-stationary\n"
     ]
    }
   ],
   "source": [
    "lst = ['rgnp', 'pgnp', 'ulc', 'gdfco', 'gdf', 'gdfim', 'gdfcf', 'gdfce']\n",
    "\n",
    "lst = ['rgnp', 'pgnp', 'ulc', 'gdfco', 'gdf', 'gdfim', 'gdfcf', 'gdfce']\n",
    "for item in lst:\n",
    "    adf_test(df_transform[item])"
   ]
  },
  {
   "cell_type": "code",
   "execution_count": 15,
   "metadata": {},
   "outputs": [
    {
     "name": "stdout",
     "output_type": "stream",
     "text": [
      "ADF Test:\n",
      "ADF test statistics    -7.231143e+00\n",
      "p-value                 1.993203e-10\n",
      "# lag used              9.000000e+00\n",
      "# observation           1.100000e+02\n",
      "critical value (1%)    -3.491245e+00\n",
      "critical value (5%)    -2.888195e+00\n",
      "critical value (10%)   -2.580988e+00\n",
      "Strong evidence against the null hypothesis\n",
      "Reject the null hypothesis\n",
      "Data has no unit root and is stationary\n",
      "ADF Test:\n",
      "ADF test statistics    -6.830641e+00\n",
      "p-value                 1.897629e-09\n",
      "# lag used              6.000000e+00\n",
      "# observation           1.130000e+02\n",
      "critical value (1%)    -3.489590e+00\n",
      "critical value (5%)    -2.887477e+00\n",
      "critical value (10%)   -2.580604e+00\n",
      "Strong evidence against the null hypothesis\n",
      "Reject the null hypothesis\n",
      "Data has no unit root and is stationary\n",
      "ADF Test:\n",
      "ADF test statistics    -7.846173e+00\n",
      "p-value                 5.761404e-12\n",
      "# lag used              9.000000e+00\n",
      "# observation           1.100000e+02\n",
      "critical value (1%)    -3.491245e+00\n",
      "critical value (5%)    -2.888195e+00\n",
      "critical value (10%)   -2.580988e+00\n",
      "Strong evidence against the null hypothesis\n",
      "Reject the null hypothesis\n",
      "Data has no unit root and is stationary\n",
      "ADF Test:\n",
      "ADF test statistics    -6.711325e+00\n",
      "p-value                 3.674370e-09\n",
      "# lag used              8.000000e+00\n",
      "# observation           1.110000e+02\n",
      "critical value (1%)    -3.490683e+00\n",
      "critical value (5%)    -2.887952e+00\n",
      "critical value (10%)   -2.580857e+00\n",
      "Strong evidence against the null hypothesis\n",
      "Reject the null hypothesis\n",
      "Data has no unit root and is stationary\n",
      "ADF Test:\n",
      "ADF test statistics      -4.691179\n",
      "p-value                   0.000087\n",
      "# lag used               13.000000\n",
      "# observation           106.000000\n",
      "critical value (1%)      -3.493602\n",
      "critical value (5%)      -2.889217\n",
      "critical value (10%)     -2.581533\n",
      "Strong evidence against the null hypothesis\n",
      "Reject the null hypothesis\n",
      "Data has no unit root and is stationary\n",
      "ADF Test:\n",
      "ADF test statistics    -6.766466e+00\n",
      "p-value                 2.709238e-09\n",
      "# lag used              7.000000e+00\n",
      "# observation           1.120000e+02\n",
      "critical value (1%)    -3.490131e+00\n",
      "critical value (5%)    -2.887712e+00\n",
      "critical value (10%)   -2.580730e+00\n",
      "Strong evidence against the null hypothesis\n",
      "Reject the null hypothesis\n",
      "Data has no unit root and is stationary\n",
      "ADF Test:\n",
      "ADF test statistics    -5.769567e+00\n",
      "p-value                 5.432009e-07\n",
      "# lag used              1.300000e+01\n",
      "# observation           1.060000e+02\n",
      "critical value (1%)    -3.493602e+00\n",
      "critical value (5%)    -2.889217e+00\n",
      "critical value (10%)   -2.581533e+00\n",
      "Strong evidence against the null hypothesis\n",
      "Reject the null hypothesis\n",
      "Data has no unit root and is stationary\n",
      "ADF Test:\n",
      "ADF test statistics      -5.258412\n",
      "p-value                   0.000007\n",
      "# lag used               11.000000\n",
      "# observation           108.000000\n",
      "critical value (1%)      -3.492401\n",
      "critical value (5%)      -2.888697\n",
      "critical value (10%)     -2.581255\n",
      "Strong evidence against the null hypothesis\n",
      "Reject the null hypothesis\n",
      "Data has no unit root and is stationary\n"
     ]
    }
   ],
   "source": [
    "df_transform = df_transform.diff().dropna()\n",
    "\n",
    "lst = ['rgnp', 'pgnp', 'ulc', 'gdfco', 'gdf', 'gdfim', 'gdfcf', 'gdfce']\n",
    "for item in lst:\n",
    "    adf_test(df_transform[item])"
   ]
  },
  {
   "cell_type": "code",
   "execution_count": 16,
   "metadata": {},
   "outputs": [],
   "source": [
    "num_observation = 4"
   ]
  },
  {
   "cell_type": "code",
   "execution_count": 17,
   "metadata": {},
   "outputs": [],
   "source": [
    "train = df_transform[:-num_observation]\n",
    "test = df_transform[-num_observation:]"
   ]
  },
  {
   "cell_type": "code",
   "execution_count": 18,
   "metadata": {},
   "outputs": [
    {
     "name": "stdout",
     "output_type": "stream",
     "text": [
      "ORDER 1\n",
      "AIC: 3.7008979597918072\n",
      "\n",
      "\n",
      "ORDER 2\n",
      "AIC: 2.037744388074595\n",
      "\n",
      "\n",
      "ORDER 3\n",
      "AIC: 1.2710988906021248\n",
      "\n",
      "\n",
      "ORDER 4\n",
      "AIC: 0.9751521339276019\n",
      "\n",
      "\n",
      "ORDER 5\n",
      "AIC: 0.3843414303066286\n",
      "\n",
      "\n"
     ]
    }
   ],
   "source": [
    "model = VAR(train)\n",
    "\n",
    "for p in [1,2,3,4, 5]:\n",
    "    results = model.fit(p)\n",
    "    print(f'ORDER {p}')\n",
    "    print(f'AIC: {results.aic}')\n",
    "    print('\\n')"
   ]
  },
  {
   "cell_type": "code",
   "execution_count": 19,
   "metadata": {},
   "outputs": [],
   "source": [
    "results=model.fit(4)#.summary()"
   ]
  },
  {
   "cell_type": "code",
   "execution_count": 21,
   "metadata": {},
   "outputs": [
    {
     "data": {
      "text/plain": [
       "  Summary of Regression Results   \n",
       "==================================\n",
       "Model:                         VAR\n",
       "Method:                        OLS\n",
       "Date:           Wed, 28, Apr, 2021\n",
       "Time:                     18:21:09\n",
       "--------------------------------------------------------------------\n",
       "No. of Equations:         8.00000    BIC:                    7.38304\n",
       "Nobs:                     112.000    HQIC:                   3.57504\n",
       "Log likelihood:          -1061.98    FPE:                    3.06226\n",
       "AIC:                     0.975152    Det(Omega_mle):        0.388010\n",
       "--------------------------------------------------------------------\n",
       "Results for equation rgnp\n",
       "===========================================================================\n",
       "              coefficient       std. error           t-stat            prob\n",
       "---------------------------------------------------------------------------\n",
       "const            0.355274         2.889014            0.123           0.902\n",
       "L1.rgnp         -1.221048         0.154867           -7.884           0.000\n",
       "L1.pgnp         -1.923334         5.310903           -0.362           0.717\n",
       "L1.ulc          -2.806906         4.596140           -0.611           0.541\n",
       "L1.gdfco        -9.158905         9.398310           -0.975           0.330\n",
       "L1.gdf         -22.833669        20.996001           -1.088           0.277\n",
       "L1.gdfim        -0.323927         4.163699           -0.078           0.938\n",
       "L1.gdfcf        15.664174         5.782157            2.709           0.007\n",
       "L1.gdfce         1.473281         2.440702            0.604           0.546\n",
       "L2.rgnp         -1.088883         0.189746           -5.739           0.000\n",
       "L2.pgnp         -3.726647         6.071912           -0.614           0.539\n",
       "L2.ulc          -7.211135         6.093428           -1.183           0.237\n",
       "L2.gdfco        -2.908160        14.094938           -0.206           0.837\n",
       "L2.gdf         -25.599008        29.897915           -0.856           0.392\n",
       "L2.gdfim        -5.380206         5.338509           -1.008           0.314\n",
       "L2.gdfcf        24.222485         8.914930            2.717           0.007\n",
       "L2.gdfce         7.868207         3.217421            2.446           0.014\n",
       "L3.rgnp         -0.871869         0.187669           -4.646           0.000\n",
       "L3.pgnp        -13.631582         6.586503           -2.070           0.038\n",
       "L3.ulc         -11.098987         6.157551           -1.803           0.071\n",
       "L3.gdfco       -13.224216        13.981134           -0.946           0.344\n",
       "L3.gdf         -19.553147        28.940772           -0.676           0.499\n",
       "L3.gdfim       -11.774075         5.239571           -2.247           0.025\n",
       "L3.gdfcf        21.413747         8.956549            2.391           0.017\n",
       "L3.gdfce        10.367568         3.259577            3.181           0.001\n",
       "L4.rgnp         -0.334821         0.137275           -2.439           0.015\n",
       "L4.pgnp          1.433662         6.120384            0.234           0.815\n",
       "L4.ulc          -1.173802         5.175277           -0.227           0.821\n",
       "L4.gdfco         0.462666         9.508635            0.049           0.961\n",
       "L4.gdf         -14.551173        20.487230           -0.710           0.478\n",
       "L4.gdfim        -7.266549         4.051842           -1.793           0.073\n",
       "L4.gdfcf        10.041277         5.985344            1.678           0.093\n",
       "L4.gdfce         2.825172         2.566883            1.101           0.271\n",
       "===========================================================================\n",
       "\n",
       "Results for equation pgnp\n",
       "===========================================================================\n",
       "              coefficient       std. error           t-stat            prob\n",
       "---------------------------------------------------------------------------\n",
       "const            0.005371         0.063466            0.085           0.933\n",
       "L1.rgnp         -0.005766         0.003402           -1.695           0.090\n",
       "L1.pgnp         -0.642257         0.116670           -5.505           0.000\n",
       "L1.ulc          -0.104638         0.100968           -1.036           0.300\n",
       "L1.gdfco        -0.196490         0.206462           -0.952           0.341\n",
       "L1.gdf           0.538446         0.461240            1.167           0.243\n",
       "L1.gdfim        -0.121903         0.091468           -1.333           0.183\n",
       "L1.gdfcf         0.206724         0.127023            1.627           0.104\n",
       "L1.gdfce         0.006468         0.053617            0.121           0.904\n",
       "L2.rgnp          0.000281         0.004168            0.068           0.946\n",
       "L2.pgnp         -0.603702         0.133388           -4.526           0.000\n",
       "L2.ulc           0.013627         0.133861            0.102           0.919\n",
       "L2.gdfco        -0.277027         0.309638           -0.895           0.371\n",
       "L2.gdf           0.630822         0.656798            0.960           0.337\n",
       "L2.gdfim        -0.153953         0.117276           -1.313           0.189\n",
       "L2.gdfcf         0.125216         0.195843            0.639           0.523\n",
       "L2.gdfce         0.084399         0.070680            1.194           0.232\n",
       "L3.rgnp          0.001390         0.004123            0.337           0.736\n",
       "L3.pgnp         -0.404445         0.144692           -2.795           0.005\n",
       "L3.ulc           0.002742         0.135269            0.020           0.984\n",
       "L3.gdfco        -0.315014         0.307138           -1.026           0.305\n",
       "L3.gdf           0.546751         0.635771            0.860           0.390\n",
       "L3.gdfim        -0.173710         0.115103           -1.509           0.131\n",
       "L3.gdfcf         0.085320         0.196758            0.434           0.665\n",
       "L3.gdfce         0.066374         0.071606            0.927           0.354\n",
       "L4.rgnp         -0.000629         0.003016           -0.209           0.835\n",
       "L4.pgnp         -0.140633         0.134453           -1.046           0.296\n",
       "L4.ulc          -0.026647         0.113691           -0.234           0.815\n",
       "L4.gdfco        -0.263711         0.208886           -1.262           0.207\n",
       "L4.gdf           0.591355         0.450064            1.314           0.189\n",
       "L4.gdfim        -0.083968         0.089011           -0.943           0.346\n",
       "L4.gdfcf         0.016952         0.131486            0.129           0.897\n",
       "L4.gdfce         0.009394         0.056389            0.167           0.868\n",
       "===========================================================================\n",
       "\n",
       "Results for equation ulc\n",
       "===========================================================================\n",
       "              coefficient       std. error           t-stat            prob\n",
       "---------------------------------------------------------------------------\n",
       "const            0.003258         0.099167            0.033           0.974\n",
       "L1.rgnp          0.002650         0.005316            0.499           0.618\n",
       "L1.pgnp         -0.118645         0.182300           -0.651           0.515\n",
       "L1.ulc          -1.152143         0.157765           -7.303           0.000\n",
       "L1.gdfco        -0.170531         0.322603           -0.529           0.597\n",
       "L1.gdf           0.720676         0.720701            1.000           0.317\n",
       "L1.gdfim        -0.139770         0.142922           -0.978           0.328\n",
       "L1.gdfcf        -0.378459         0.198476           -1.907           0.057\n",
       "L1.gdfce        -0.027668         0.083779           -0.330           0.741\n",
       "L2.rgnp          0.011088         0.006513            1.702           0.089\n",
       "L2.pgnp         -0.086045         0.208422           -0.413           0.680\n",
       "L2.ulc          -0.745926         0.209161           -3.566           0.000\n",
       "L2.gdfco        -0.718484         0.483817           -1.485           0.138\n",
       "L2.gdf           0.010047         1.026264            0.010           0.992\n",
       "L2.gdfim        -0.031642         0.183248           -0.173           0.863\n",
       "L2.gdfcf        -0.443658         0.306010           -1.450           0.147\n",
       "L2.gdfce        -0.195555         0.110440           -1.771           0.077\n",
       "L3.rgnp          0.013859         0.006442            2.151           0.031\n",
       "L3.pgnp          0.071701         0.226086            0.317           0.751\n",
       "L3.ulc          -0.395556         0.211362           -1.871           0.061\n",
       "L3.gdfco        -0.536988         0.479911           -1.119           0.263\n",
       "L3.gdf          -0.300350         0.993410           -0.302           0.762\n",
       "L3.gdfim         0.043868         0.179851            0.244           0.807\n",
       "L3.gdfcf        -0.543582         0.307439           -1.768           0.077\n",
       "L3.gdfce        -0.197964         0.111887           -1.769           0.077\n",
       "L4.rgnp          0.006326         0.004712            1.343           0.179\n",
       "L4.pgnp         -0.069627         0.210086           -0.331           0.740\n",
       "L4.ulc          -0.231810         0.177645           -1.305           0.192\n",
       "L4.gdfco        -0.526901         0.326390           -1.614           0.106\n",
       "L4.gdf          -0.310909         0.703237           -0.442           0.658\n",
       "L4.gdfim         0.110953         0.139082            0.798           0.425\n",
       "L4.gdfcf        -0.141857         0.205451           -0.690           0.490\n",
       "L4.gdfce        -0.121979         0.088110           -1.384           0.166\n",
       "===========================================================================\n",
       "\n",
       "Results for equation gdfco\n",
       "===========================================================================\n",
       "              coefficient       std. error           t-stat            prob\n",
       "---------------------------------------------------------------------------\n",
       "const           -0.000349         0.032172           -0.011           0.991\n",
       "L1.rgnp         -0.002524         0.001725           -1.464           0.143\n",
       "L1.pgnp         -0.050210         0.059142           -0.849           0.396\n",
       "L1.ulc          -0.070579         0.051182           -1.379           0.168\n",
       "L1.gdfco        -1.323394         0.104659          -12.645           0.000\n",
       "L1.gdf           0.109863         0.233810            0.470           0.638\n",
       "L1.gdfim         0.018820         0.046367            0.406           0.685\n",
       "L1.gdfcf        -0.033708         0.064390           -0.523           0.601\n",
       "L1.gdfce         0.014966         0.027180            0.551           0.582\n",
       "L2.rgnp         -0.001712         0.002113           -0.810           0.418\n",
       "L2.pgnp         -0.113091         0.067617           -1.673           0.094\n",
       "L2.ulc          -0.060234         0.067856           -0.888           0.375\n",
       "L2.gdfco        -1.343055         0.156961           -8.557           0.000\n",
       "L2.gdf           0.125731         0.332942            0.378           0.706\n",
       "L2.gdfim         0.021627         0.059449            0.364           0.716\n",
       "L2.gdfcf        -0.024740         0.099276           -0.249           0.803\n",
       "L2.gdfce         0.024853         0.035829            0.694           0.488\n",
       "L3.rgnp         -0.000639         0.002090           -0.306           0.760\n",
       "L3.pgnp         -0.078504         0.073347           -1.070           0.284\n",
       "L3.ulc           0.020551         0.068570            0.300           0.764\n",
       "L3.gdfco        -0.936998         0.155693           -6.018           0.000\n",
       "L3.gdf          -0.093178         0.322283           -0.289           0.772\n",
       "L3.gdfim        -0.003887         0.058348           -0.067           0.947\n",
       "L3.gdfcf        -0.002599         0.099740           -0.026           0.979\n",
       "L3.gdfce         0.052762         0.036298            1.454           0.146\n",
       "L4.rgnp          0.000374         0.001529            0.245           0.807\n",
       "L4.pgnp         -0.060120         0.068156           -0.882           0.378\n",
       "L4.ulc           0.009093         0.057632            0.158           0.875\n",
       "L4.gdfco        -0.470155         0.105888           -4.440           0.000\n",
       "L4.gdf          -0.335848         0.228145           -1.472           0.141\n",
       "L4.gdfim        -0.017747         0.045121           -0.393           0.694\n",
       "L4.gdfcf         0.021528         0.066653            0.323           0.747\n",
       "L4.gdfce         0.030441         0.028585            1.065           0.287\n",
       "===========================================================================\n",
       "\n",
       "Results for equation gdf\n",
       "===========================================================================\n",
       "              coefficient       std. error           t-stat            prob\n",
       "---------------------------------------------------------------------------\n",
       "const            0.004330         0.019066            0.227           0.820\n",
       "L1.rgnp         -0.000883         0.001022           -0.864           0.388\n",
       "L1.pgnp          0.019975         0.035050            0.570           0.569\n",
       "L1.ulc          -0.019561         0.030333           -0.645           0.519\n",
       "L1.gdfco         0.012911         0.062025            0.208           0.835\n",
       "L1.gdf          -1.174824         0.138566           -8.478           0.000\n",
       "L1.gdfim         0.010464         0.027479            0.381           0.703\n",
       "L1.gdfcf         0.062634         0.038160            1.641           0.101\n",
       "L1.gdfce         0.003715         0.016108            0.231           0.818\n",
       "L2.rgnp         -0.000623         0.001252           -0.498           0.619\n",
       "L2.pgnp         -0.095316         0.040072           -2.379           0.017\n",
       "L2.ulc          -0.008368         0.040214           -0.208           0.835\n",
       "L2.gdfco        -0.083845         0.093021           -0.901           0.367\n",
       "L2.gdf          -1.023280         0.197315           -5.186           0.000\n",
       "L2.gdfim        -0.010220         0.035232           -0.290           0.772\n",
       "L2.gdfcf         0.058354         0.058835            0.992           0.321\n",
       "L2.gdfce         0.024477         0.021234            1.153           0.249\n",
       "L3.rgnp          0.000009         0.001239            0.007           0.995\n",
       "L3.pgnp         -0.159775         0.043469           -3.676           0.000\n",
       "L3.ulc           0.019004         0.040638            0.468           0.640\n",
       "L3.gdfco        -0.083773         0.092270           -0.908           0.364\n",
       "L3.gdf          -0.706727         0.190999           -3.700           0.000\n",
       "L3.gdfim         0.020939         0.034579            0.606           0.545\n",
       "L3.gdfcf         0.027275         0.059110            0.461           0.644\n",
       "L3.gdfce         0.020766         0.021512            0.965           0.334\n",
       "L4.rgnp         -0.000224         0.000906           -0.247           0.805\n",
       "L4.pgnp         -0.050114         0.040392           -1.241           0.215\n",
       "L4.ulc          -0.044548         0.034155           -1.304           0.192\n",
       "L4.gdfco        -0.013489         0.062754           -0.215           0.830\n",
       "L4.gdf          -0.150211         0.135208           -1.111           0.267\n",
       "L4.gdfim         0.011905         0.026741            0.445           0.656\n",
       "L4.gdfcf        -0.020424         0.039501           -0.517           0.605\n",
       "L4.gdfce        -0.015805         0.016940           -0.933           0.351\n",
       "===========================================================================\n",
       "\n",
       "Results for equation gdfim\n",
       "===========================================================================\n",
       "              coefficient       std. error           t-stat            prob\n",
       "---------------------------------------------------------------------------\n",
       "const           -0.016900         0.097357           -0.174           0.862\n",
       "L1.rgnp          0.001654         0.005219            0.317           0.751\n",
       "L1.pgnp          0.042114         0.178972            0.235           0.814\n",
       "L1.ulc           0.240473         0.154885            1.553           0.121\n",
       "L1.gdfco         0.076978         0.316713            0.243           0.808\n",
       "L1.gdf           0.173642         0.707543            0.245           0.806\n",
       "L1.gdfim        -0.959345         0.140312           -6.837           0.000\n",
       "L1.gdfcf         0.037185         0.194852            0.191           0.849\n",
       "L1.gdfce         0.045484         0.082249            0.553           0.580\n",
       "L2.rgnp         -0.002218         0.006394           -0.347           0.729\n",
       "L2.pgnp          0.199577         0.204617            0.975           0.329\n",
       "L2.ulc           0.176927         0.205342            0.862           0.389\n",
       "L2.gdfco         0.422129         0.474984            0.889           0.374\n",
       "L2.gdf          -0.917754         1.007528           -0.911           0.362\n",
       "L2.gdfim        -0.880088         0.179902           -4.892           0.000\n",
       "L2.gdfcf         0.209002         0.300424            0.696           0.487\n",
       "L2.gdfce         0.127321         0.108424            1.174           0.240\n",
       "L3.rgnp         -0.003909         0.006324           -0.618           0.537\n",
       "L3.pgnp          0.227732         0.221958            1.026           0.305\n",
       "L3.ulc           0.349418         0.207503            1.684           0.092\n",
       "L3.gdfco         0.207288         0.471149            0.440           0.660\n",
       "L3.gdf          -1.874217         0.975273           -1.922           0.055\n",
       "L3.gdfim        -0.743641         0.176568           -4.212           0.000\n",
       "L3.gdfcf         0.456756         0.301826            1.513           0.130\n",
       "L3.gdfce         0.208083         0.109844            1.894           0.058\n",
       "L4.rgnp         -0.002664         0.004626           -0.576           0.565\n",
       "L4.pgnp          0.125662         0.206250            0.609           0.542\n",
       "L4.ulc           0.230320         0.174401            1.321           0.187\n",
       "L4.gdfco         0.097680         0.320431            0.305           0.760\n",
       "L4.gdf          -1.392570         0.690398           -2.017           0.044\n",
       "L4.gdfim        -0.385804         0.136543           -2.826           0.005\n",
       "L4.gdfcf         0.324790         0.201700            1.610           0.107\n",
       "L4.gdfce         0.122424         0.086501            1.415           0.157\n",
       "===========================================================================\n",
       "\n",
       "Results for equation gdfcf\n",
       "===========================================================================\n",
       "              coefficient       std. error           t-stat            prob\n",
       "---------------------------------------------------------------------------\n",
       "const            0.011796         0.063062            0.187           0.852\n",
       "L1.rgnp         -0.003678         0.003380           -1.088           0.277\n",
       "L1.pgnp          0.031338         0.115927            0.270           0.787\n",
       "L1.ulc          -0.118448         0.100325           -1.181           0.238\n",
       "L1.gdfco        -0.235377         0.205147           -1.147           0.251\n",
       "L1.gdf           0.734363         0.458303            1.602           0.109\n",
       "L1.gdfim         0.189664         0.090886            2.087           0.037\n",
       "L1.gdfcf        -1.094812         0.126214           -8.674           0.000\n",
       "L1.gdfce        -0.134865         0.053276           -2.531           0.011\n",
       "L2.rgnp         -0.007199         0.004142           -1.738           0.082\n",
       "L2.pgnp          0.031595         0.132538            0.238           0.812\n",
       "L2.ulc          -0.206242         0.133008           -1.551           0.121\n",
       "L2.gdfco        -0.308539         0.307666           -1.003           0.316\n",
       "L2.gdf           1.010006         0.652615            1.548           0.122\n",
       "L2.gdfim         0.054592         0.116530            0.468           0.639\n",
       "L2.gdfcf        -1.053875         0.194596           -5.416           0.000\n",
       "L2.gdfce        -0.120143         0.070230           -1.711           0.087\n",
       "L3.rgnp         -0.005703         0.004096           -1.392           0.164\n",
       "L3.pgnp         -0.085891         0.143771           -0.597           0.550\n",
       "L3.ulc          -0.122576         0.134408           -0.912           0.362\n",
       "L3.gdfco        -0.323179         0.305182           -1.059           0.290\n",
       "L3.gdf           0.300180         0.631723            0.475           0.635\n",
       "L3.gdfim         0.181389         0.114370            1.586           0.113\n",
       "L3.gdfcf        -0.414722         0.195505           -2.121           0.034\n",
       "L3.gdfce        -0.095885         0.071150           -1.348           0.178\n",
       "L4.rgnp         -0.002288         0.002996           -0.764           0.445\n",
       "L4.pgnp          0.100375         0.133596            0.751           0.452\n",
       "L4.ulc          -0.152764         0.112967           -1.352           0.176\n",
       "L4.gdfco        -0.136707         0.207556           -0.659           0.510\n",
       "L4.gdf           0.131569         0.447198            0.294           0.769\n",
       "L4.gdfim         0.058752         0.088444            0.664           0.507\n",
       "L4.gdfcf        -0.225480         0.130649           -1.726           0.084\n",
       "L4.gdfce        -0.115986         0.056030           -2.070           0.038\n",
       "===========================================================================\n",
       "\n",
       "Results for equation gdfce\n",
       "===========================================================================\n",
       "              coefficient       std. error           t-stat            prob\n",
       "---------------------------------------------------------------------------\n",
       "const           -0.004623         0.174891           -0.026           0.979\n",
       "L1.rgnp         -0.007972         0.009375           -0.850           0.395\n",
       "L1.pgnp          0.476371         0.321504            1.482           0.138\n",
       "L1.ulc          -0.077185         0.278235           -0.277           0.781\n",
       "L1.gdfco        -0.250996         0.568942           -0.441           0.659\n",
       "L1.gdf          -0.244241         1.271027           -0.192           0.848\n",
       "L1.gdfim        -0.067055         0.252056           -0.266           0.790\n",
       "L1.gdfcf         0.380379         0.350032            1.087           0.277\n",
       "L1.gdfce        -0.677459         0.147752           -4.585           0.000\n",
       "L2.rgnp         -0.011792         0.011487           -1.027           0.305\n",
       "L2.pgnp          0.451400         0.367573            1.228           0.219\n",
       "L2.ulc          -0.324841         0.368876           -0.881           0.379\n",
       "L2.gdfco        -0.695171         0.853260           -0.815           0.415\n",
       "L2.gdf          -0.673499         1.809919           -0.372           0.710\n",
       "L2.gdfim        -0.170190         0.323175           -0.527           0.598\n",
       "L2.gdfcf         0.593486         0.539680            1.100           0.271\n",
       "L2.gdfce        -0.407941         0.194772           -2.094           0.036\n",
       "L3.rgnp         -0.018485         0.011361           -1.627           0.104\n",
       "L3.pgnp         -0.136209         0.398725           -0.342           0.733\n",
       "L3.ulc           0.114482         0.372757            0.307           0.759\n",
       "L3.gdfco        -0.979322         0.846371           -1.157           0.247\n",
       "L3.gdf          -0.749674         1.751977           -0.428           0.669\n",
       "L3.gdfim        -0.389679         0.317186           -1.229           0.219\n",
       "L3.gdfcf         0.290909         0.542199            0.537           0.592\n",
       "L3.gdfce        -0.029010         0.197324           -0.147           0.883\n",
       "L4.rgnp         -0.011734         0.008310           -1.412           0.158\n",
       "L4.pgnp          0.053922         0.370507            0.146           0.884\n",
       "L4.ulc          -0.156407         0.313294           -0.499           0.618\n",
       "L4.gdfco        -0.621451         0.575621           -1.080           0.280\n",
       "L4.gdf           1.862052         1.240228            1.501           0.133\n",
       "L4.gdfim        -0.310689         0.245285           -1.267           0.205\n",
       "L4.gdfcf        -0.076899         0.362333           -0.212           0.832\n",
       "L4.gdfce        -0.158734         0.155390           -1.022           0.307\n",
       "===========================================================================\n",
       "\n",
       "Correlation matrix of residuals\n",
       "             rgnp      pgnp       ulc     gdfco       gdf     gdfim     gdfcf     gdfce\n",
       "rgnp     1.000000  0.219991 -0.675284 -0.149395 -0.046998  0.074003  0.014283  0.208309\n",
       "pgnp     0.219991  1.000000 -0.150367 -0.121585 -0.181927  0.029848 -0.183656  0.033881\n",
       "ulc     -0.675284 -0.150367  1.000000  0.207814  0.265764  0.164393  0.109869 -0.028853\n",
       "gdfco   -0.149395 -0.121585  0.207814  1.000000  0.224481  0.170883 -0.046602  0.163477\n",
       "gdf     -0.046998 -0.181927  0.265764  0.224481  1.000000  0.165490  0.440724  0.298213\n",
       "gdfim    0.074003  0.029848  0.164393  0.170883  0.165490  1.000000 -0.072078  0.690960\n",
       "gdfcf    0.014283 -0.183656  0.109869 -0.046602  0.440724 -0.072078  1.000000 -0.134831\n",
       "gdfce    0.208309  0.033881 -0.028853  0.163477  0.298213  0.690960 -0.134831  1.000000\n",
       "\n"
      ]
     },
     "execution_count": 21,
     "metadata": {},
     "output_type": "execute_result"
    }
   ],
   "source": [
    "results.summary()"
   ]
  },
  {
   "cell_type": "code",
   "execution_count": 22,
   "metadata": {},
   "outputs": [
    {
     "data": {
      "text/plain": [
       "(4, 8)"
      ]
     },
     "execution_count": 22,
     "metadata": {},
     "output_type": "execute_result"
    }
   ],
   "source": [
    "lagged_values = train.values[-4:]\n",
    "lagged_values.shape"
   ]
  },
  {
   "cell_type": "code",
   "execution_count": 23,
   "metadata": {},
   "outputs": [],
   "source": [
    "z = results.forecast(y=lagged_values,steps = 4)"
   ]
  },
  {
   "cell_type": "code",
   "execution_count": 24,
   "metadata": {},
   "outputs": [],
   "source": [
    "idx = pd.date_range('1988-10-01', periods = 4, freq='QS')"
   ]
  },
  {
   "cell_type": "code",
   "execution_count": 25,
   "metadata": {},
   "outputs": [
    {
     "data": {
      "text/html": [
       "<div>\n",
       "<style scoped>\n",
       "    .dataframe tbody tr th:only-of-type {\n",
       "        vertical-align: middle;\n",
       "    }\n",
       "\n",
       "    .dataframe tbody tr th {\n",
       "        vertical-align: top;\n",
       "    }\n",
       "\n",
       "    .dataframe thead th {\n",
       "        text-align: right;\n",
       "    }\n",
       "</style>\n",
       "<table border=\"1\" class=\"dataframe\">\n",
       "  <thead>\n",
       "    <tr style=\"text-align: right;\">\n",
       "      <th></th>\n",
       "      <th>rgnp_2d</th>\n",
       "      <th>pgnp_2d</th>\n",
       "      <th>ulc_2d</th>\n",
       "      <th>gdfco_2d</th>\n",
       "      <th>gdf_2d</th>\n",
       "      <th>gdfim_2d</th>\n",
       "      <th>gdfcf_2d</th>\n",
       "      <th>gdfce_2d</th>\n",
       "    </tr>\n",
       "  </thead>\n",
       "  <tbody>\n",
       "    <tr>\n",
       "      <th>1988-10-01</th>\n",
       "      <td>77.323563</td>\n",
       "      <td>1.187070</td>\n",
       "      <td>2.197731</td>\n",
       "      <td>0.322505</td>\n",
       "      <td>-0.138243</td>\n",
       "      <td>0.461476</td>\n",
       "      <td>-1.222993</td>\n",
       "      <td>-0.518000</td>\n",
       "    </tr>\n",
       "    <tr>\n",
       "      <th>1989-01-01</th>\n",
       "      <td>-113.829384</td>\n",
       "      <td>-1.392659</td>\n",
       "      <td>0.067571</td>\n",
       "      <td>0.194670</td>\n",
       "      <td>0.235885</td>\n",
       "      <td>1.749823</td>\n",
       "      <td>1.355361</td>\n",
       "      <td>3.250555</td>\n",
       "    </tr>\n",
       "    <tr>\n",
       "      <th>1989-04-01</th>\n",
       "      <td>88.263588</td>\n",
       "      <td>0.793861</td>\n",
       "      <td>-0.645518</td>\n",
       "      <td>-0.477877</td>\n",
       "      <td>-0.669559</td>\n",
       "      <td>-1.357577</td>\n",
       "      <td>-1.680534</td>\n",
       "      <td>-4.055064</td>\n",
       "    </tr>\n",
       "    <tr>\n",
       "      <th>1989-07-01</th>\n",
       "      <td>-80.604737</td>\n",
       "      <td>-0.664989</td>\n",
       "      <td>1.538558</td>\n",
       "      <td>0.461553</td>\n",
       "      <td>0.846828</td>\n",
       "      <td>-0.733847</td>\n",
       "      <td>1.531338</td>\n",
       "      <td>1.894013</td>\n",
       "    </tr>\n",
       "  </tbody>\n",
       "</table>\n",
       "</div>"
      ],
      "text/plain": [
       "               rgnp_2d   pgnp_2d    ulc_2d  gdfco_2d    gdf_2d  gdfim_2d  \\\n",
       "1988-10-01   77.323563  1.187070  2.197731  0.322505 -0.138243  0.461476   \n",
       "1989-01-01 -113.829384 -1.392659  0.067571  0.194670  0.235885  1.749823   \n",
       "1989-04-01   88.263588  0.793861 -0.645518 -0.477877 -0.669559 -1.357577   \n",
       "1989-07-01  -80.604737 -0.664989  1.538558  0.461553  0.846828 -0.733847   \n",
       "\n",
       "            gdfcf_2d  gdfce_2d  \n",
       "1988-10-01 -1.222993 -0.518000  \n",
       "1989-01-01  1.355361  3.250555  \n",
       "1989-04-01 -1.680534 -4.055064  \n",
       "1989-07-01  1.531338  1.894013  "
      ]
     },
     "execution_count": 25,
     "metadata": {},
     "output_type": "execute_result"
    }
   ],
   "source": [
    "df_forecast = pd.DataFrame(data=z, index = idx,columns=['rgnp_2d', 'pgnp_2d', 'ulc_2d', 'gdfco_2d', 'gdf_2d', 'gdfim_2d', 'gdfcf_2d', 'gdfce_2d'])\n",
    "df_forecast.head()"
   ]
  },
  {
   "cell_type": "code",
   "execution_count": 26,
   "metadata": {},
   "outputs": [],
   "source": [
    "df_forecast['rgnp1d'] = (df['rgnp'].iloc[-num_observation-1]-df['rgnp'].iloc[-num_observation-2]) + df_forecast['rgnp_2d'].cumsum()\n",
    "df_forecast['rgnpForecast'] = df['rgnp'].iloc[-num_observation-1] + df_forecast['rgnp1d'].cumsum()"
   ]
  },
  {
   "cell_type": "code",
   "execution_count": 27,
   "metadata": {},
   "outputs": [],
   "source": [
    "df_forecast['pgnp1d'] = (df['pgnp'].iloc[-num_observation-1]-df['pgnp'].iloc[-num_observation-2]) + df_forecast['pgnp_2d'].cumsum()\n",
    "df_forecast['pgnpForecast'] = df['pgnp'].iloc[-num_observation-1] + df_forecast['pgnp1d'].cumsum()"
   ]
  },
  {
   "cell_type": "code",
   "execution_count": 28,
   "metadata": {},
   "outputs": [],
   "source": [
    "df_forecast['ulc1d'] = (df['ulc'].iloc[-num_observation-1]-df['ulc'].iloc[-num_observation-2]) + df_forecast['ulc_2d'].cumsum()\n",
    "df_forecast['ulcForecast'] = df['ulc'].iloc[-num_observation-1] + df_forecast['ulc1d'].cumsum()"
   ]
  },
  {
   "cell_type": "code",
   "execution_count": 29,
   "metadata": {},
   "outputs": [],
   "source": [
    "df_forecast['gdfco1d'] = (df['gdfco'].iloc[-num_observation-1]-df['gdfco'].iloc[-num_observation-2]) + df_forecast['gdfco_2d'].cumsum()\n",
    "df_forecast['gdfcoForecast'] = df['gdfco'].iloc[-num_observation-1] + df_forecast['gdfco1d'].cumsum()"
   ]
  },
  {
   "cell_type": "code",
   "execution_count": 30,
   "metadata": {},
   "outputs": [],
   "source": [
    "df_forecast['gdf1d'] = (df['gdf'].iloc[-num_observation-1]-df['gdf'].iloc[-num_observation-2]) + df_forecast['gdf_2d'].cumsum()\n",
    "df_forecast['gdfForecast'] = df['gdf'].iloc[-num_observation-1] + df_forecast['gdf1d'].cumsum()"
   ]
  },
  {
   "cell_type": "code",
   "execution_count": 31,
   "metadata": {},
   "outputs": [],
   "source": [
    "df_forecast['gdfim1d'] = (df['gdfim'].iloc[-num_observation-1]-df['gdfim'].iloc[-num_observation-2]) + df_forecast['gdfim_2d'].cumsum()\n",
    "df_forecast['gdfimForecast'] = df['gdfim'].iloc[-num_observation-1] + df_forecast['gdfim1d'].cumsum()"
   ]
  },
  {
   "cell_type": "code",
   "execution_count": 32,
   "metadata": {},
   "outputs": [],
   "source": [
    "df_forecast['gdfcf1d'] = (df['gdfcf'].iloc[-num_observation-1]-df['gdfcf'].iloc[-num_observation-2]) + df_forecast['gdfcf_2d'].cumsum()\n",
    "df_forecast['gdfcfForecast'] = df['gdfcf'].iloc[-num_observation-1] + df_forecast['gdfcf1d'].cumsum()"
   ]
  },
  {
   "cell_type": "code",
   "execution_count": 33,
   "metadata": {},
   "outputs": [],
   "source": [
    "df_forecast['gdfce1d'] = (df['gdfce'].iloc[-num_observation-1]-df['gdfce'].iloc[-num_observation-2]) + df_forecast['gdfce_2d'].cumsum()\n",
    "df_forecast['gdfceForecast'] = df['gdfce'].iloc[-num_observation-1] + df_forecast['gdfce1d'].cumsum()"
   ]
  },
  {
   "cell_type": "code",
   "execution_count": 34,
   "metadata": {},
   "outputs": [
    {
     "data": {
      "text/html": [
       "<div>\n",
       "<style scoped>\n",
       "    .dataframe tbody tr th:only-of-type {\n",
       "        vertical-align: middle;\n",
       "    }\n",
       "\n",
       "    .dataframe tbody tr th {\n",
       "        vertical-align: top;\n",
       "    }\n",
       "\n",
       "    .dataframe thead th {\n",
       "        text-align: right;\n",
       "    }\n",
       "</style>\n",
       "<table border=\"1\" class=\"dataframe\">\n",
       "  <thead>\n",
       "    <tr style=\"text-align: right;\">\n",
       "      <th></th>\n",
       "      <th>rgnp_2d</th>\n",
       "      <th>pgnp_2d</th>\n",
       "      <th>ulc_2d</th>\n",
       "      <th>gdfco_2d</th>\n",
       "      <th>gdf_2d</th>\n",
       "      <th>gdfim_2d</th>\n",
       "      <th>gdfcf_2d</th>\n",
       "      <th>gdfce_2d</th>\n",
       "      <th>rgnp1d</th>\n",
       "      <th>rgnpForecast</th>\n",
       "      <th>...</th>\n",
       "      <th>gdfco1d</th>\n",
       "      <th>gdfcoForecast</th>\n",
       "      <th>gdf1d</th>\n",
       "      <th>gdfForecast</th>\n",
       "      <th>gdfim1d</th>\n",
       "      <th>gdfimForecast</th>\n",
       "      <th>gdfcf1d</th>\n",
       "      <th>gdfcfForecast</th>\n",
       "      <th>gdfce1d</th>\n",
       "      <th>gdfceForecast</th>\n",
       "    </tr>\n",
       "  </thead>\n",
       "  <tbody>\n",
       "    <tr>\n",
       "      <th>1988-10-01</th>\n",
       "      <td>77.323563</td>\n",
       "      <td>1.187070</td>\n",
       "      <td>2.197731</td>\n",
       "      <td>0.322505</td>\n",
       "      <td>-0.138243</td>\n",
       "      <td>0.461476</td>\n",
       "      <td>-1.222993</td>\n",
       "      <td>-0.518000</td>\n",
       "      <td>109.323563</td>\n",
       "      <td>4152.023563</td>\n",
       "      <td>...</td>\n",
       "      <td>1.522505</td>\n",
       "      <td>133.022505</td>\n",
       "      <td>1.461757</td>\n",
       "      <td>126.361757</td>\n",
       "      <td>0.561476</td>\n",
       "      <td>106.761476</td>\n",
       "      <td>1.277007</td>\n",
       "      <td>124.777007</td>\n",
       "      <td>-0.018000</td>\n",
       "      <td>92.782000</td>\n",
       "    </tr>\n",
       "    <tr>\n",
       "      <th>1989-01-01</th>\n",
       "      <td>-113.829384</td>\n",
       "      <td>-1.392659</td>\n",
       "      <td>0.067571</td>\n",
       "      <td>0.194670</td>\n",
       "      <td>0.235885</td>\n",
       "      <td>1.749823</td>\n",
       "      <td>1.355361</td>\n",
       "      <td>3.250555</td>\n",
       "      <td>-4.505821</td>\n",
       "      <td>4147.517743</td>\n",
       "      <td>...</td>\n",
       "      <td>1.717175</td>\n",
       "      <td>134.739680</td>\n",
       "      <td>1.697642</td>\n",
       "      <td>128.059399</td>\n",
       "      <td>2.311299</td>\n",
       "      <td>109.072775</td>\n",
       "      <td>2.632367</td>\n",
       "      <td>127.409374</td>\n",
       "      <td>3.232555</td>\n",
       "      <td>96.014555</td>\n",
       "    </tr>\n",
       "    <tr>\n",
       "      <th>1989-04-01</th>\n",
       "      <td>88.263588</td>\n",
       "      <td>0.793861</td>\n",
       "      <td>-0.645518</td>\n",
       "      <td>-0.477877</td>\n",
       "      <td>-0.669559</td>\n",
       "      <td>-1.357577</td>\n",
       "      <td>-1.680534</td>\n",
       "      <td>-4.055064</td>\n",
       "      <td>83.757768</td>\n",
       "      <td>4231.275510</td>\n",
       "      <td>...</td>\n",
       "      <td>1.239298</td>\n",
       "      <td>135.978978</td>\n",
       "      <td>1.028083</td>\n",
       "      <td>129.087482</td>\n",
       "      <td>0.953722</td>\n",
       "      <td>110.026497</td>\n",
       "      <td>0.951834</td>\n",
       "      <td>128.361208</td>\n",
       "      <td>-0.822509</td>\n",
       "      <td>95.192046</td>\n",
       "    </tr>\n",
       "    <tr>\n",
       "      <th>1989-07-01</th>\n",
       "      <td>-80.604737</td>\n",
       "      <td>-0.664989</td>\n",
       "      <td>1.538558</td>\n",
       "      <td>0.461553</td>\n",
       "      <td>0.846828</td>\n",
       "      <td>-0.733847</td>\n",
       "      <td>1.531338</td>\n",
       "      <td>1.894013</td>\n",
       "      <td>3.153030</td>\n",
       "      <td>4234.428541</td>\n",
       "      <td>...</td>\n",
       "      <td>1.700851</td>\n",
       "      <td>137.679829</td>\n",
       "      <td>1.874912</td>\n",
       "      <td>130.962394</td>\n",
       "      <td>0.219875</td>\n",
       "      <td>110.246372</td>\n",
       "      <td>2.483172</td>\n",
       "      <td>130.844380</td>\n",
       "      <td>1.071503</td>\n",
       "      <td>96.263549</td>\n",
       "    </tr>\n",
       "  </tbody>\n",
       "</table>\n",
       "<p>4 rows × 24 columns</p>\n",
       "</div>"
      ],
      "text/plain": [
       "               rgnp_2d   pgnp_2d    ulc_2d  gdfco_2d    gdf_2d  gdfim_2d  \\\n",
       "1988-10-01   77.323563  1.187070  2.197731  0.322505 -0.138243  0.461476   \n",
       "1989-01-01 -113.829384 -1.392659  0.067571  0.194670  0.235885  1.749823   \n",
       "1989-04-01   88.263588  0.793861 -0.645518 -0.477877 -0.669559 -1.357577   \n",
       "1989-07-01  -80.604737 -0.664989  1.538558  0.461553  0.846828 -0.733847   \n",
       "\n",
       "            gdfcf_2d  gdfce_2d      rgnp1d  rgnpForecast  ...   gdfco1d  \\\n",
       "1988-10-01 -1.222993 -0.518000  109.323563   4152.023563  ...  1.522505   \n",
       "1989-01-01  1.355361  3.250555   -4.505821   4147.517743  ...  1.717175   \n",
       "1989-04-01 -1.680534 -4.055064   83.757768   4231.275510  ...  1.239298   \n",
       "1989-07-01  1.531338  1.894013    3.153030   4234.428541  ...  1.700851   \n",
       "\n",
       "            gdfcoForecast     gdf1d  gdfForecast   gdfim1d  gdfimForecast  \\\n",
       "1988-10-01     133.022505  1.461757   126.361757  0.561476     106.761476   \n",
       "1989-01-01     134.739680  1.697642   128.059399  2.311299     109.072775   \n",
       "1989-04-01     135.978978  1.028083   129.087482  0.953722     110.026497   \n",
       "1989-07-01     137.679829  1.874912   130.962394  0.219875     110.246372   \n",
       "\n",
       "             gdfcf1d  gdfcfForecast   gdfce1d  gdfceForecast  \n",
       "1988-10-01  1.277007     124.777007 -0.018000      92.782000  \n",
       "1989-01-01  2.632367     127.409374  3.232555      96.014555  \n",
       "1989-04-01  0.951834     128.361208 -0.822509      95.192046  \n",
       "1989-07-01  2.483172     130.844380  1.071503      96.263549  \n",
       "\n",
       "[4 rows x 24 columns]"
      ]
     },
     "execution_count": 34,
     "metadata": {},
     "output_type": "execute_result"
    }
   ],
   "source": [
    "df_forecast.head()"
   ]
  },
  {
   "cell_type": "code",
   "execution_count": 35,
   "metadata": {},
   "outputs": [
    {
     "data": {
      "text/plain": [
       "<matplotlib.axes._subplots.AxesSubplot at 0x1c8bbe76ca0>"
      ]
     },
     "execution_count": 35,
     "metadata": {},
     "output_type": "execute_result"
    },
    {
     "data": {
      "image/png": "[encoded data removed]",
      "text/plain": [
       "<Figure size 864x576 with 1 Axes>"
      ]
     },
     "metadata": {
      "needs_background": "light"
     },
     "output_type": "display_data"
    }
   ],
   "source": [
    "test_range = df[-num_observation:]\n",
    "test_range.plot(figsize=(12,8))"
   ]
  },
  {
   "cell_type": "code",
   "execution_count": 39,
   "metadata": {},
   "outputs": [
    {
     "data": {
      "text/plain": [
       "<matplotlib.axes._subplots.AxesSubplot at 0x1c8bbe2c550>"
      ]
     },
     "execution_count": 39,
     "metadata": {},
     "output_type": "execute_result"
    },
    {
     "data": {
      "image/png": "[encoded data removed]",
      "text/plain": [
       "<Figure size 864x576 with 1 Axes>"
      ]
     },
     "metadata": {
      "needs_background": "light"
     },
     "output_type": "display_data"
    }
   ],
   "source": [
    "df_forecast[['rgnpForecast','pgnpForecast','ulcForecast','gdfcoForecast','gdfForecast','gdfimForecast','gdfcfForecast','gdfceForecast']].plot(figsize=(12,8))"
   ]
  },
  {
   "cell_type": "code",
   "execution_count": 40,
   "metadata": {},
   "outputs": [
    {
     "data": {
      "text/plain": [
       "<matplotlib.axes._subplots.AxesSubplot at 0x1c8bbf2ed30>"
      ]
     },
     "execution_count": 40,
     "metadata": {},
     "output_type": "execute_result"
    },
    {
     "data": {
      "image/png": "[encoded data removed]",
      "text/plain": [
       "<Figure size 864x576 with 1 Axes>"
      ]
     },
     "metadata": {
      "needs_background": "light"
     },
     "output_type": "display_data"
    }
   ],
   "source": [
    "test_range['rgnp'].plot(legend=True,figsize=(12,8))\n",
    "df_forecast['rgnpForecast'].plot(legend=True)"
   ]
  },
  {
   "cell_type": "code",
   "execution_count": 41,
   "metadata": {},
   "outputs": [
    {
     "data": {
      "text/plain": [
       "<matplotlib.axes._subplots.AxesSubplot at 0x1c8bbf690a0>"
      ]
     },
     "execution_count": 41,
     "metadata": {},
     "output_type": "execute_result"
    },
    {
     "data": {
      "image/png": "[encoded data removed]",
      "text/plain": [
       "<Figure size 864x576 with 1 Axes>"
      ]
     },
     "metadata": {
      "needs_background": "light"
     },
     "output_type": "display_data"
    }
   ],
   "source": [
    "test_range['pgnp'].plot(legend=True,figsize=(12,8))\n",
    "df_forecast['pgnpForecast'].plot(legend=True)"
   ]
  },
  {
   "cell_type": "code",
   "execution_count": 42,
   "metadata": {},
   "outputs": [
    {
     "data": {
      "text/plain": [
       "<matplotlib.axes._subplots.AxesSubplot at 0x1c8bc1bcaf0>"
      ]
     },
     "execution_count": 42,
     "metadata": {},
     "output_type": "execute_result"
    },
    {
     "data": {
      "image/png": "[encoded data removed]",
      "text/plain": [
       "<Figure size 864x576 with 1 Axes>"
      ]
     },
     "metadata": {
      "needs_background": "light"
     },
     "output_type": "display_data"
    }
   ],
   "source": [
    "test_range['ulc'].plot(legend=True,figsize=(12,8))\n",
    "df_forecast['ulcForecast'].plot(legend=True)"
   ]
  },
  {
   "cell_type": "code",
   "execution_count": 43,
   "metadata": {},
   "outputs": [
    {
     "data": {
      "text/plain": [
       "<matplotlib.axes._subplots.AxesSubplot at 0x1c8bc350250>"
      ]
     },
     "execution_count": 43,
     "metadata": {},
     "output_type": "execute_result"
    },
    {
     "data": {
      "image/png": "[encoded data removed]",
      "text/plain": [
       "<Figure size 864x576 with 1 Axes>"
      ]
     },
     "metadata": {
      "needs_background": "light"
     },
     "output_type": "display_data"
    }
   ],
   "source": [
    "test_range['gdfco'].plot(legend=True,figsize=(12,8))\n",
    "df_forecast['gdfcoForecast'].plot(legend=True)"
   ]
  },
  {
   "cell_type": "code",
   "execution_count": 44,
   "metadata": {},
   "outputs": [
    {
     "data": {
      "text/plain": [
       "<matplotlib.axes._subplots.AxesSubplot at 0x1c8bc811040>"
      ]
     },
     "execution_count": 44,
     "metadata": {},
     "output_type": "execute_result"
    },
    {
     "data": {
      "image/png": "[encoded data removed]",
      "text/plain": [
       "<Figure size 864x576 with 1 Axes>"
      ]
     },
     "metadata": {
      "needs_background": "light"
     },
     "output_type": "display_data"
    }
   ],
   "source": [
    "test_range['gdf'].plot(legend=True,figsize=(12,8))\n",
    "df_forecast['gdfForecast'].plot(legend=True)"
   ]
  },
  {
   "cell_type": "code",
   "execution_count": 45,
   "metadata": {},
   "outputs": [
    {
     "data": {
      "text/plain": [
       "<matplotlib.axes._subplots.AxesSubplot at 0x1c8bc365850>"
      ]
     },
     "execution_count": 45,
     "metadata": {},
     "output_type": "execute_result"
    },
    {
     "data": {
      "image/png": "[encoded data removed]",
      "text/plain": [
       "<Figure size 864x576 with 1 Axes>"
      ]
     },
     "metadata": {
      "needs_background": "light"
     },
     "output_type": "display_data"
    }
   ],
   "source": [
    "test_range['gdfim'].plot(legend=True,figsize=(12,8))\n",
    "df_forecast['gdfimForecast'].plot(legend=True)"
   ]
  },
  {
   "cell_type": "code",
   "execution_count": 46,
   "metadata": {},
   "outputs": [
    {
     "data": {
      "text/plain": [
       "<matplotlib.axes._subplots.AxesSubplot at 0x1c8bcbbc760>"
      ]
     },
     "execution_count": 46,
     "metadata": {},
     "output_type": "execute_result"
    },
    {
     "data": {
      "image/png": "[encoded data removed]",
      "text/plain": [
       "<Figure size 864x576 with 1 Axes>"
      ]
     },
     "metadata": {
      "needs_background": "light"
     },
     "output_type": "display_data"
    }
   ],
   "source": [
    "test_range['gdfcf'].plot(legend=True,figsize=(12,8))\n",
    "df_forecast['gdfcfForecast'].plot(legend=True)"
   ]
  },
  {
   "cell_type": "code",
   "execution_count": 47,
   "metadata": {},
   "outputs": [
    {
     "data": {
      "text/plain": [
       "<matplotlib.axes._subplots.AxesSubplot at 0x1c8bcf228b0>"
      ]
     },
     "execution_count": 47,
     "metadata": {},
     "output_type": "execute_result"
    },
    {
     "data": {
      "image/png": "[encoded data removed]",
      "text/plain": [
       "<Figure size 864x576 with 1 Axes>"
      ]
     },
     "metadata": {
      "needs_background": "light"
     },
     "output_type": "display_data"
    }
   ],
   "source": [
    "test_range['gdfce'].plot(legend=True,figsize=(12,8))\n",
    "df_forecast['gdfceForecast'].plot(legend=True)"
   ]
  },
  {
   "cell_type": "code",
   "execution_count": null,
   "metadata": {},
   "outputs": [],
   "source": []
  },
  {
   "cell_type": "code",
   "execution_count": null,
   "metadata": {},
   "outputs": [],
   "source": []
  },
  {
   "cell_type": "code",
   "execution_count": null,
   "metadata": {},
   "outputs": [],
   "source": []
  },
  {
   "cell_type": "markdown",
   "metadata": {},
   "source": [
    "# 2. Gun Violence Panel\n",
    "\n",
    "The [Gun Violence](https://www.kaggle.com/jameslko/gun-violence-data) dataset\n",
    "\n",
    "1. Transform it into an amenable panel (or structure of multiple time series) to analyze and create a forecast for the next year outside the sample in **Chicago**, **Washington** and **New Orleans**, and the US as a whole.\n",
    "\n",
    "2. Are there other (non time series) predictors which could be used in this dataset to help predict severity or number of shootings in the future? Analyze the data for feature importance and explain your findings."
   ]
  },
  {
   "cell_type": "code",
   "execution_count": 48,
   "metadata": {},
   "outputs": [],
   "source": [
    "from linearmodels.panel import PooledOLS\n",
    "import statsmodels.api as sm\n",
    "from linearmodels.panel import RandomEffects\n",
    "from statsmodels.graphics.tsaplots import plot_acf,plot_pacf\n",
    "from statsmodels.tsa.arima_model import ARMA, ARIMA"
   ]
  },
  {
   "cell_type": "code",
   "execution_count": 49,
   "metadata": {},
   "outputs": [
    {
     "data": {
      "text/html": [
       "<div>\n",
       "<style scoped>\n",
       "    .dataframe tbody tr th:only-of-type {\n",
       "        vertical-align: middle;\n",
       "    }\n",
       "\n",
       "    .dataframe tbody tr th {\n",
       "        vertical-align: top;\n",
       "    }\n",
       "\n",
       "    .dataframe thead th {\n",
       "        text-align: right;\n",
       "    }\n",
       "</style>\n",
       "<table border=\"1\" class=\"dataframe\">\n",
       "  <thead>\n",
       "    <tr style=\"text-align: right;\">\n",
       "      <th></th>\n",
       "      <th>city_or_county</th>\n",
       "      <th>n_killed</th>\n",
       "    </tr>\n",
       "    <tr>\n",
       "      <th>date</th>\n",
       "      <th></th>\n",
       "      <th></th>\n",
       "    </tr>\n",
       "  </thead>\n",
       "  <tbody>\n",
       "    <tr>\n",
       "      <th>2013-01-01</th>\n",
       "      <td>Mckeesport</td>\n",
       "      <td>0</td>\n",
       "    </tr>\n",
       "    <tr>\n",
       "      <th>2013-01-01</th>\n",
       "      <td>Hawthorne</td>\n",
       "      <td>1</td>\n",
       "    </tr>\n",
       "    <tr>\n",
       "      <th>2013-01-01</th>\n",
       "      <td>Lorain</td>\n",
       "      <td>1</td>\n",
       "    </tr>\n",
       "    <tr>\n",
       "      <th>2013-01-01</th>\n",
       "      <td>Aurora</td>\n",
       "      <td>4</td>\n",
       "    </tr>\n",
       "    <tr>\n",
       "      <th>2013-01-01</th>\n",
       "      <td>Greensboro</td>\n",
       "      <td>2</td>\n",
       "    </tr>\n",
       "  </tbody>\n",
       "</table>\n",
       "</div>"
      ],
      "text/plain": [
       "           city_or_county  n_killed\n",
       "date                               \n",
       "2013-01-01     Mckeesport         0\n",
       "2013-01-01      Hawthorne         1\n",
       "2013-01-01         Lorain         1\n",
       "2013-01-01         Aurora         4\n",
       "2013-01-01     Greensboro         2"
      ]
     },
     "execution_count": 49,
     "metadata": {},
     "output_type": "execute_result"
    }
   ],
   "source": [
    "df1 = pd.read_csv('data/gun-violence-data_01-2013_03-2018.csv')\n",
    "df2 = pd.read_csv('data/gun-violence-data_01-2013_03-2018.csv',index_col='date',parse_dates=True)\n",
    "\n",
    "df2 = df2[['city_or_county','n_killed']]\n",
    "df2.index = pd.to_datetime(df1.date).dt.to_period('M').dt.to_timestamp()\n",
    "df2.head()"
   ]
  },
  {
   "cell_type": "code",
   "execution_count": 50,
   "metadata": {},
   "outputs": [],
   "source": [
    "df1['Month-Yr'] = pd.to_datetime(df1.date).dt.to_period('M').dt.to_timestamp()\n",
    "df1['year'] = pd.to_datetime(df1.date).dt.year\n",
    "year = pd.Categorical(df1['year'])\n",
    "df1['year1'] = year"
   ]
  },
  {
   "cell_type": "code",
   "execution_count": 51,
   "metadata": {},
   "outputs": [],
   "source": [
    "chicago = df1[df1['city_or_county'] == 'Chicago']\n",
    "washington = df1[df1['city_or_county'] == 'Washington']\n",
    "newOrleans = df1[df1['city_or_county'] == 'New Orleans']"
   ]
  },
  {
   "cell_type": "code",
   "execution_count": 52,
   "metadata": {},
   "outputs": [],
   "source": [
    "chicago2 = df2[df2['city_or_county'] == 'Chicago']\n",
    "washington2 = df2[df2['city_or_county'] == 'Washington']\n",
    "newOrleans2 = df2[df2['city_or_county'] == 'New Orleans']\n",
    "usa2 = df2"
   ]
  },
  {
   "cell_type": "markdown",
   "metadata": {},
   "source": [
    "# Chicago"
   ]
  },
  {
   "cell_type": "code",
   "execution_count": 53,
   "metadata": {},
   "outputs": [
    {
     "data": {
      "text/html": [
       "<div>\n",
       "<style scoped>\n",
       "    .dataframe tbody tr th:only-of-type {\n",
       "        vertical-align: middle;\n",
       "    }\n",
       "\n",
       "    .dataframe tbody tr th {\n",
       "        vertical-align: top;\n",
       "    }\n",
       "\n",
       "    .dataframe thead th {\n",
       "        text-align: right;\n",
       "    }\n",
       "</style>\n",
       "<table border=\"1\" class=\"dataframe\">\n",
       "  <thead>\n",
       "    <tr style=\"text-align: right;\">\n",
       "      <th></th>\n",
       "      <th></th>\n",
       "      <th>True</th>\n",
       "      <th>congressional_district</th>\n",
       "      <th>state_senate_district</th>\n",
       "      <th>n_killed</th>\n",
       "      <th>n_injured</th>\n",
       "      <th>year1</th>\n",
       "    </tr>\n",
       "    <tr>\n",
       "      <th>state_house_district</th>\n",
       "      <th>Month-Yr</th>\n",
       "      <th></th>\n",
       "      <th></th>\n",
       "      <th></th>\n",
       "      <th></th>\n",
       "      <th></th>\n",
       "      <th></th>\n",
       "    </tr>\n",
       "  </thead>\n",
       "  <tbody>\n",
       "    <tr>\n",
       "      <th>25.0</th>\n",
       "      <th>2013-02-01</th>\n",
       "      <td>0</td>\n",
       "      <td>2.0</td>\n",
       "      <td>13.0</td>\n",
       "      <td>0</td>\n",
       "      <td>4</td>\n",
       "      <td>2013</td>\n",
       "    </tr>\n",
       "    <tr>\n",
       "      <th>35.0</th>\n",
       "      <th>2013-03-01</th>\n",
       "      <td>0</td>\n",
       "      <td>1.0</td>\n",
       "      <td>18.0</td>\n",
       "      <td>0</td>\n",
       "      <td>7</td>\n",
       "      <td>2013</td>\n",
       "    </tr>\n",
       "    <tr>\n",
       "      <th>8.0</th>\n",
       "      <th>2013-05-01</th>\n",
       "      <td>0</td>\n",
       "      <td>7.0</td>\n",
       "      <td>4.0</td>\n",
       "      <td>0</td>\n",
       "      <td>4</td>\n",
       "      <td>2013</td>\n",
       "    </tr>\n",
       "    <tr>\n",
       "      <th>5.0</th>\n",
       "      <th>2013-05-01</th>\n",
       "      <td>0</td>\n",
       "      <td>7.0</td>\n",
       "      <td>3.0</td>\n",
       "      <td>0</td>\n",
       "      <td>4</td>\n",
       "      <td>2013</td>\n",
       "    </tr>\n",
       "    <tr>\n",
       "      <th>6.0</th>\n",
       "      <th>2013-06-01</th>\n",
       "      <td>1</td>\n",
       "      <td>7.0</td>\n",
       "      <td>3.0</td>\n",
       "      <td>1</td>\n",
       "      <td>4</td>\n",
       "      <td>2013</td>\n",
       "    </tr>\n",
       "  </tbody>\n",
       "</table>\n",
       "</div>"
      ],
      "text/plain": [
       "                                 True  congressional_district  \\\n",
       "state_house_district Month-Yr                                   \n",
       "25.0                 2013-02-01     0                     2.0   \n",
       "35.0                 2013-03-01     0                     1.0   \n",
       "8.0                  2013-05-01     0                     7.0   \n",
       "5.0                  2013-05-01     0                     7.0   \n",
       "6.0                  2013-06-01     1                     7.0   \n",
       "\n",
       "                                 state_senate_district  n_killed  n_injured  \\\n",
       "state_house_district Month-Yr                                                 \n",
       "25.0                 2013-02-01                   13.0         0          4   \n",
       "35.0                 2013-03-01                   18.0         0          7   \n",
       "8.0                  2013-05-01                    4.0         0          4   \n",
       "5.0                  2013-05-01                    3.0         0          4   \n",
       "6.0                  2013-06-01                    3.0         1          4   \n",
       "\n",
       "                                year1  \n",
       "state_house_district Month-Yr          \n",
       "25.0                 2013-02-01  2013  \n",
       "35.0                 2013-03-01  2013  \n",
       "8.0                  2013-05-01  2013  \n",
       "5.0                  2013-05-01  2013  \n",
       "6.0                  2013-06-01  2013  "
      ]
     },
     "execution_count": 53,
     "metadata": {},
     "output_type": "execute_result"
    }
   ],
   "source": [
    "chicago['n_guns_involved_T_F'] = chicago['n_guns_involved'].notna()\n",
    "chicago1 = pd.get_dummies(chicago['n_guns_involved_T_F'], drop_first=True)\n",
    "chicago1 = chicago1.join(chicago[['Month-Yr','congressional_district', 'state_senate_district','state_house_district','n_killed','n_injured','year1']])\n",
    "chicago1.dropna(subset=['congressional_district', 'state_senate_district','state_house_district'],inplace=True)\n",
    "chicago1 = chicago1.set_index([\"state_house_district\", \"Month-Yr\"])\n",
    "chicago1.head()"
   ]
  },
  {
   "cell_type": "code",
   "execution_count": 54,
   "metadata": {},
   "outputs": [
    {
     "data": {
      "text/html": [
       "<table class=\"simpletable\">\n",
       "<caption>PooledOLS Estimation Summary</caption>\n",
       "<tr>\n",
       "  <th>Dep. Variable:</th>        <td>n_killed</td>     <th>  R-squared:         </th>     <td>0.0048</td>  \n",
       "</tr>\n",
       "<tr>\n",
       "  <th>Estimator:</th>            <td>PooledOLS</td>    <th>  R-squared (Between):</th>    <td>-0.0334</td> \n",
       "</tr>\n",
       "<tr>\n",
       "  <th>No. Observations:</th>       <td>10293</td>      <th>  R-squared (Within):</th>     <td>0.0049</td>  \n",
       "</tr>\n",
       "<tr>\n",
       "  <th>Date:</th>             <td>Wed, Apr 28 2021</td> <th>  R-squared (Overall):</th>    <td>0.0048</td>  \n",
       "</tr>\n",
       "<tr>\n",
       "  <th>Time:</th>                 <td>18:31:39</td>     <th>  Log-likelihood     </th>     <td>-5553.2</td> \n",
       "</tr>\n",
       "<tr>\n",
       "  <th>Cov. Estimator:</th>       <td>Clustered</td>    <th>                     </th>        <td></td>     \n",
       "</tr>\n",
       "<tr>\n",
       "  <th></th>                          <td></td>         <th>  F-statistic:       </th>     <td>6.1572</td>  \n",
       "</tr>\n",
       "<tr>\n",
       "  <th>Entities:</th>                <td>46</td>        <th>  P-value            </th>     <td>0.0000</td>  \n",
       "</tr>\n",
       "<tr>\n",
       "  <th>Avg Obs:</th>               <td>223.76</td>      <th>  Distribution:      </th>   <td>F(8,10284)</td>\n",
       "</tr>\n",
       "<tr>\n",
       "  <th>Min Obs:</th>               <td>1.0000</td>      <th>                     </th>        <td></td>     \n",
       "</tr>\n",
       "<tr>\n",
       "  <th>Max Obs:</th>               <td>1272.0</td>      <th>  F-statistic (robust):</th>   <td>15.669</td>  \n",
       "</tr>\n",
       "<tr>\n",
       "  <th></th>                          <td></td>         <th>  P-value            </th>     <td>0.0000</td>  \n",
       "</tr>\n",
       "<tr>\n",
       "  <th>Time periods:</th>            <td>58</td>        <th>  Distribution:      </th>   <td>F(8,10284)</td>\n",
       "</tr>\n",
       "<tr>\n",
       "  <th>Avg Obs:</th>               <td>177.47</td>      <th>                     </th>        <td></td>     \n",
       "</tr>\n",
       "<tr>\n",
       "  <th>Min Obs:</th>               <td>1.0000</td>      <th>                     </th>        <td></td>     \n",
       "</tr>\n",
       "<tr>\n",
       "  <th>Max Obs:</th>               <td>334.00</td>      <th>                     </th>        <td></td>     \n",
       "</tr>\n",
       "<tr>\n",
       "  <th></th>                          <td></td>         <th>                     </th>        <td></td>     \n",
       "</tr>\n",
       "</table>\n",
       "<table class=\"simpletable\">\n",
       "<caption>Parameter Estimates</caption>\n",
       "<tr>\n",
       "             <td></td>            <th>Parameter</th> <th>Std. Err.</th> <th>T-stat</th>  <th>P-value</th> <th>Lower CI</th> <th>Upper CI</th>\n",
       "</tr>\n",
       "<tr>\n",
       "  <th>const</th>                   <td>0.3838</td>    <td>0.1087</td>   <td>3.5299</td>  <td>0.0004</td>   <td>0.1707</td>   <td>0.5970</td> \n",
       "</tr>\n",
       "<tr>\n",
       "  <th>True</th>                    <td>0.0567</td>    <td>0.0090</td>   <td>6.3296</td>  <td>0.0000</td>   <td>0.0391</td>   <td>0.0742</td> \n",
       "</tr>\n",
       "<tr>\n",
       "  <th>congressional_district</th>  <td>0.0005</td>    <td>0.0018</td>   <td>0.2678</td>  <td>0.7889</td>   <td>-0.0030</td>  <td>0.0039</td> \n",
       "</tr>\n",
       "<tr>\n",
       "  <th>state_senate_district</th>   <td>-0.0001</td>   <td>0.0009</td>   <td>-0.1214</td> <td>0.9034</td>   <td>-0.0018</td>  <td>0.0016</td> \n",
       "</tr>\n",
       "<tr>\n",
       "  <th>year1.2014</th>              <td>-0.1892</td>   <td>0.1083</td>   <td>-1.7458</td> <td>0.0809</td>   <td>-0.4015</td>  <td>0.0232</td> \n",
       "</tr>\n",
       "<tr>\n",
       "  <th>year1.2015</th>              <td>-0.2305</td>   <td>0.1097</td>   <td>-2.1007</td> <td>0.0357</td>   <td>-0.4456</td>  <td>-0.0154</td>\n",
       "</tr>\n",
       "<tr>\n",
       "  <th>year1.2016</th>              <td>-0.2587</td>   <td>0.1077</td>   <td>-2.4032</td> <td>0.0163</td>   <td>-0.4698</td>  <td>-0.0477</td>\n",
       "</tr>\n",
       "<tr>\n",
       "  <th>year1.2017</th>              <td>-0.2403</td>   <td>0.1073</td>   <td>-2.2386</td> <td>0.0252</td>   <td>-0.4507</td>  <td>-0.0299</td>\n",
       "</tr>\n",
       "<tr>\n",
       "  <th>year1.2018</th>              <td>-0.2637</td>   <td>0.1083</td>   <td>-2.4351</td> <td>0.0149</td>   <td>-0.4759</td>  <td>-0.0514</td>\n",
       "</tr>\n",
       "</table><br/>id: 0x1c8c130b040"
      ],
      "text/plain": [
       "                          PooledOLS Estimation Summary                          \n",
       "================================================================================\n",
       "Dep. Variable:               n_killed   R-squared:                        0.0048\n",
       "Estimator:                  PooledOLS   R-squared (Between):             -0.0334\n",
       "No. Observations:               10293   R-squared (Within):               0.0049\n",
       "Date:                Wed, Apr 28 2021   R-squared (Overall):              0.0048\n",
       "Time:                        18:31:39   Log-likelihood                   -5553.2\n",
       "Cov. Estimator:             Clustered                                           \n",
       "                                        F-statistic:                      6.1572\n",
       "Entities:                          46   P-value                           0.0000\n",
       "Avg Obs:                       223.76   Distribution:                 F(8,10284)\n",
       "Min Obs:                       1.0000                                           \n",
       "Max Obs:                       1272.0   F-statistic (robust):             15.669\n",
       "                                        P-value                           0.0000\n",
       "Time periods:                      58   Distribution:                 F(8,10284)\n",
       "Avg Obs:                       177.47                                           \n",
       "Min Obs:                       1.0000                                           \n",
       "Max Obs:                       334.00                                           \n",
       "                                                                                \n",
       "                                   Parameter Estimates                                    \n",
       "==========================================================================================\n",
       "                        Parameter  Std. Err.     T-stat    P-value    Lower CI    Upper CI\n",
       "------------------------------------------------------------------------------------------\n",
       "const                      0.3838     0.1087     3.5299     0.0004      0.1707      0.5970\n",
       "True                       0.0567     0.0090     6.3296     0.0000      0.0391      0.0742\n",
       "congressional_district     0.0005     0.0018     0.2678     0.7889     -0.0030      0.0039\n",
       "state_senate_district     -0.0001     0.0009    -0.1214     0.9034     -0.0018      0.0016\n",
       "year1.2014                -0.1892     0.1083    -1.7458     0.0809     -0.4015      0.0232\n",
       "year1.2015                -0.2305     0.1097    -2.1007     0.0357     -0.4456     -0.0154\n",
       "year1.2016                -0.2587     0.1077    -2.4032     0.0163     -0.4698     -0.0477\n",
       "year1.2017                -0.2403     0.1073    -2.2386     0.0252     -0.4507     -0.0299\n",
       "year1.2018                -0.2637     0.1083    -2.4351     0.0149     -0.4759     -0.0514\n",
       "==========================================================================================\n",
       "PanelResults, id: 0x1c8c130b040"
      ]
     },
     "execution_count": 54,
     "metadata": {},
     "output_type": "execute_result"
    }
   ],
   "source": [
    "y_chicago = chicago1['n_killed']\n",
    "X_chicago = chicago1.drop(['n_killed','n_injured'],axis=1)\n",
    "\n",
    "chicago_exog = sm.add_constant(X_chicago)\n",
    "chicago_mod = PooledOLS(y_chicago, chicago_exog)\n",
    "chicago_pooled_res = chicago_mod.fit(cov_type='clustered', cluster_entity=True)\n",
    "chicago_pooled_res"
   ]
  },
  {
   "cell_type": "code",
   "execution_count": 55,
   "metadata": {},
   "outputs": [
    {
     "name": "stdout",
     "output_type": "stream",
     "text": [
      "ADF Test:\n",
      "ADF test statistics       -97.096004\n",
      "p-value                     0.000000\n",
      "# lag used                  0.000000\n",
      "# observation           10813.000000\n",
      "critical value (1%)        -3.430955\n",
      "critical value (5%)        -2.861807\n",
      "critical value (10%)       -2.566912\n",
      "Strong evidence against the null hypothesis\n",
      "Reject the null hypothesis\n",
      "Data has no unit root and is stationary\n"
     ]
    }
   ],
   "source": [
    "adf_test(chicago2['n_killed'])"
   ]
  },
  {
   "cell_type": "code",
   "execution_count": 56,
   "metadata": {},
   "outputs": [],
   "source": [
    "chicago2 = chicago2.groupby([chicago2.index])[['n_killed']].agg(np.sum)"
   ]
  },
  {
   "cell_type": "code",
   "execution_count": 57,
   "metadata": {},
   "outputs": [
    {
     "data": {
      "text/plain": [
       "58"
      ]
     },
     "execution_count": 57,
     "metadata": {},
     "output_type": "execute_result"
    },
    {
     "data": {
      "image/png": "[encoded data removed]",
      "text/plain": [
       "<Figure size 432x288 with 1 Axes>"
      ]
     },
     "metadata": {
      "needs_background": "light"
     },
     "output_type": "display_data"
    },
    {
     "data": {
      "image/png": "[encoded data removed]",
      "text/plain": [
       "<Figure size 432x288 with 1 Axes>"
      ]
     },
     "metadata": {
      "needs_background": "light"
     },
     "output_type": "display_data"
    }
   ],
   "source": [
    "plot_acf(chicago2,lags = 40);\n",
    "plot_pacf(chicago2,lags = 40);\n",
    "len(chicago2)"
   ]
  },
  {
   "cell_type": "code",
   "execution_count": 58,
   "metadata": {},
   "outputs": [],
   "source": [
    "chicago2_train = chicago2.iloc[:46]\n",
    "chicago2_test = chicago2.iloc[46:]"
   ]
  },
  {
   "cell_type": "code",
   "execution_count": 59,
   "metadata": {},
   "outputs": [
    {
     "data": {
      "text/html": [
       "<table class=\"simpletable\">\n",
       "<caption>ARMA Model Results</caption>\n",
       "<tr>\n",
       "  <th>Dep. Variable:</th>     <td>n_killed</td>     <th>  No. Observations:  </th>    <td>58</td>   \n",
       "</tr>\n",
       "<tr>\n",
       "  <th>Model:</th>            <td>ARMA(0, 1)</td>    <th>  Log Likelihood     </th> <td>-235.441</td>\n",
       "</tr>\n",
       "<tr>\n",
       "  <th>Method:</th>             <td>css-mle</td>     <th>  S.D. of innovations</th>  <td>13.961</td> \n",
       "</tr>\n",
       "<tr>\n",
       "  <th>Date:</th>          <td>Wed, 28 Apr 2021</td> <th>  AIC                </th>  <td>476.882</td>\n",
       "</tr>\n",
       "<tr>\n",
       "  <th>Time:</th>              <td>18:32:26</td>     <th>  BIC                </th>  <td>483.063</td>\n",
       "</tr>\n",
       "<tr>\n",
       "  <th>Sample:</th>                <td>0</td>        <th>  HQIC               </th>  <td>479.290</td>\n",
       "</tr>\n",
       "<tr>\n",
       "  <th></th>                       <td> </td>        <th>                     </th>     <td> </td>   \n",
       "</tr>\n",
       "</table>\n",
       "<table class=\"simpletable\">\n",
       "<tr>\n",
       "         <td></td>           <th>coef</th>     <th>std err</th>      <th>z</th>      <th>P>|z|</th>  <th>[0.025</th>    <th>0.975]</th>  \n",
       "</tr>\n",
       "<tr>\n",
       "  <th>const</th>          <td>   35.9177</td> <td>    2.946</td> <td>   12.193</td> <td> 0.000</td> <td>   30.144</td> <td>   41.691</td>\n",
       "</tr>\n",
       "<tr>\n",
       "  <th>ma.L1.n_killed</th> <td>    0.6173</td> <td>    0.081</td> <td>    7.657</td> <td> 0.000</td> <td>    0.459</td> <td>    0.775</td>\n",
       "</tr>\n",
       "</table>\n",
       "<table class=\"simpletable\">\n",
       "<caption>Roots</caption>\n",
       "<tr>\n",
       "    <td></td>   <th>            Real</th>  <th>         Imaginary</th> <th>         Modulus</th>  <th>        Frequency</th>\n",
       "</tr>\n",
       "<tr>\n",
       "  <th>MA.1</th> <td>          -1.6200</td> <td>          +0.0000j</td> <td>           1.6200</td> <td>           0.5000</td>\n",
       "</tr>\n",
       "</table>"
      ],
      "text/plain": [
       "<class 'statsmodels.iolib.summary.Summary'>\n",
       "\"\"\"\n",
       "                              ARMA Model Results                              \n",
       "==============================================================================\n",
       "Dep. Variable:               n_killed   No. Observations:                   58\n",
       "Model:                     ARMA(0, 1)   Log Likelihood                -235.441\n",
       "Method:                       css-mle   S.D. of innovations             13.961\n",
       "Date:                Wed, 28 Apr 2021   AIC                            476.882\n",
       "Time:                        18:32:26   BIC                            483.063\n",
       "Sample:                             0   HQIC                           479.290\n",
       "                                                                              \n",
       "==================================================================================\n",
       "                     coef    std err          z      P>|z|      [0.025      0.975]\n",
       "----------------------------------------------------------------------------------\n",
       "const             35.9177      2.946     12.193      0.000      30.144      41.691\n",
       "ma.L1.n_killed     0.6173      0.081      7.657      0.000       0.459       0.775\n",
       "                                    Roots                                    \n",
       "=============================================================================\n",
       "                  Real          Imaginary           Modulus         Frequency\n",
       "-----------------------------------------------------------------------------\n",
       "MA.1           -1.6200           +0.0000j            1.6200            0.5000\n",
       "-----------------------------------------------------------------------------\n",
       "\"\"\""
      ]
     },
     "execution_count": 59,
     "metadata": {},
     "output_type": "execute_result"
    }
   ],
   "source": [
    "chicago2_model = ARIMA(chicago2['n_killed'],order=(0,0,1))\n",
    "chicago2_result = chicago2_model.fit(disp=-1)\n",
    "chicago2_result.summary()"
   ]
  },
  {
   "cell_type": "code",
   "execution_count": 96,
   "metadata": {},
   "outputs": [
    {
     "data": {
      "text/plain": [
       "date\n",
       "2017-04-01    33.424072\n",
       "2017-05-01    38.742312\n",
       "2017-06-01    42.249581\n",
       "2017-07-01    53.047592\n",
       "2017-08-01    44.530278\n",
       "2017-09-01    38.676752\n",
       "2017-10-01    45.376478\n",
       "2017-11-01    40.006262\n",
       "2017-12-01    32.827363\n",
       "2018-01-01    38.493366\n",
       "2018-02-01    33.761252\n",
       "2018-03-01    32.978604\n",
       "dtype: float64"
      ]
     },
     "execution_count": 96,
     "metadata": {},
     "output_type": "execute_result"
    }
   ],
   "source": [
    "chicago2_start = len(chicago2_train)\n",
    "chicago2_end = len(chicago2_train)+len(chicago2_test)-1\n",
    "chicago2_prediction = chicago2_result.predict(start=chicago2_start,end=chicago2_end,typ='levels')\n",
    "chicago2_prediction"
   ]
  },
  {
   "cell_type": "code",
   "execution_count": 61,
   "metadata": {},
   "outputs": [
    {
     "data": {
      "text/plain": [
       "<matplotlib.axes._subplots.AxesSubplot at 0x1c8da631eb0>"
      ]
     },
     "execution_count": 61,
     "metadata": {},
     "output_type": "execute_result"
    },
    {
     "data": {
      "image/png": "[encoded data removed]",
      "text/plain": [
       "<Figure size 864x576 with 1 Axes>"
      ]
     },
     "metadata": {
      "needs_background": "light"
     },
     "output_type": "display_data"
    }
   ],
   "source": [
    "import matplotlib.pyplot as plt\n",
    "fig, ax = plt.subplots()\n",
    "chicago2_test[['n_killed']].plot(legend=True,figsize=(12,8),ax=ax)\n",
    "chicago2_prediction.plot(legend=True,figsize=(12,8),ax=ax)"
   ]
  },
  {
   "cell_type": "markdown",
   "metadata": {},
   "source": [
    "# Washington"
   ]
  },
  {
   "cell_type": "code",
   "execution_count": 62,
   "metadata": {},
   "outputs": [
    {
     "data": {
      "text/html": [
       "<div>\n",
       "<style scoped>\n",
       "    .dataframe tbody tr th:only-of-type {\n",
       "        vertical-align: middle;\n",
       "    }\n",
       "\n",
       "    .dataframe tbody tr th {\n",
       "        vertical-align: top;\n",
       "    }\n",
       "\n",
       "    .dataframe thead th {\n",
       "        text-align: right;\n",
       "    }\n",
       "</style>\n",
       "<table border=\"1\" class=\"dataframe\">\n",
       "  <thead>\n",
       "    <tr style=\"text-align: right;\">\n",
       "      <th></th>\n",
       "      <th></th>\n",
       "      <th>True</th>\n",
       "      <th>congressional_district</th>\n",
       "      <th>state_senate_district</th>\n",
       "      <th>n_killed</th>\n",
       "      <th>n_injured</th>\n",
       "      <th>year1</th>\n",
       "    </tr>\n",
       "    <tr>\n",
       "      <th>state_house_district</th>\n",
       "      <th>Month-Yr</th>\n",
       "      <th></th>\n",
       "      <th></th>\n",
       "      <th></th>\n",
       "      <th></th>\n",
       "      <th></th>\n",
       "      <th></th>\n",
       "    </tr>\n",
       "  </thead>\n",
       "  <tbody>\n",
       "    <tr>\n",
       "      <th>24.0</th>\n",
       "      <th>2014-01-01</th>\n",
       "      <td>1</td>\n",
       "      <td>4.0</td>\n",
       "      <td>24.0</td>\n",
       "      <td>0</td>\n",
       "      <td>0</td>\n",
       "      <td>2014</td>\n",
       "    </tr>\n",
       "    <tr>\n",
       "      <th rowspan=\"2\" valign=\"top\">120.0</th>\n",
       "      <th>2014-05-01</th>\n",
       "      <td>0</td>\n",
       "      <td>10.0</td>\n",
       "      <td>24.0</td>\n",
       "      <td>1</td>\n",
       "      <td>0</td>\n",
       "      <td>2014</td>\n",
       "    </tr>\n",
       "    <tr>\n",
       "      <th>2014-06-01</th>\n",
       "      <td>0</td>\n",
       "      <td>10.0</td>\n",
       "      <td>24.0</td>\n",
       "      <td>1</td>\n",
       "      <td>0</td>\n",
       "      <td>2014</td>\n",
       "    </tr>\n",
       "    <tr>\n",
       "      <th>40.0</th>\n",
       "      <th>2014-06-01</th>\n",
       "      <td>0</td>\n",
       "      <td>4.0</td>\n",
       "      <td>28.0</td>\n",
       "      <td>1</td>\n",
       "      <td>0</td>\n",
       "      <td>2014</td>\n",
       "    </tr>\n",
       "    <tr>\n",
       "      <th>61.0</th>\n",
       "      <th>2014-07-01</th>\n",
       "      <td>0</td>\n",
       "      <td>3.0</td>\n",
       "      <td>26.0</td>\n",
       "      <td>0</td>\n",
       "      <td>0</td>\n",
       "      <td>2014</td>\n",
       "    </tr>\n",
       "    <tr>\n",
       "      <th>...</th>\n",
       "      <th>...</th>\n",
       "      <td>...</td>\n",
       "      <td>...</td>\n",
       "      <td>...</td>\n",
       "      <td>...</td>\n",
       "      <td>...</td>\n",
       "      <td>...</td>\n",
       "    </tr>\n",
       "    <tr>\n",
       "      <th>48.0</th>\n",
       "      <th>2018-01-01</th>\n",
       "      <td>1</td>\n",
       "      <td>18.0</td>\n",
       "      <td>46.0</td>\n",
       "      <td>0</td>\n",
       "      <td>0</td>\n",
       "      <td>2018</td>\n",
       "    </tr>\n",
       "    <tr>\n",
       "      <th>15.0</th>\n",
       "      <th>2018-02-01</th>\n",
       "      <td>1</td>\n",
       "      <td>18.0</td>\n",
       "      <td>46.0</td>\n",
       "      <td>1</td>\n",
       "      <td>0</td>\n",
       "      <td>2018</td>\n",
       "    </tr>\n",
       "    <tr>\n",
       "      <th>48.0</th>\n",
       "      <th>2018-03-01</th>\n",
       "      <td>1</td>\n",
       "      <td>18.0</td>\n",
       "      <td>46.0</td>\n",
       "      <td>0</td>\n",
       "      <td>0</td>\n",
       "      <td>2018</td>\n",
       "    </tr>\n",
       "    <tr>\n",
       "      <th>26.0</th>\n",
       "      <th>2018-03-01</th>\n",
       "      <td>1</td>\n",
       "      <td>4.0</td>\n",
       "      <td>26.0</td>\n",
       "      <td>0</td>\n",
       "      <td>1</td>\n",
       "      <td>2018</td>\n",
       "    </tr>\n",
       "    <tr>\n",
       "      <th>78.0</th>\n",
       "      <th>2018-03-01</th>\n",
       "      <td>1</td>\n",
       "      <td>2.0</td>\n",
       "      <td>39.0</td>\n",
       "      <td>0</td>\n",
       "      <td>1</td>\n",
       "      <td>2018</td>\n",
       "    </tr>\n",
       "  </tbody>\n",
       "</table>\n",
       "<p>61 rows × 6 columns</p>\n",
       "</div>"
      ],
      "text/plain": [
       "                                 True  congressional_district  \\\n",
       "state_house_district Month-Yr                                   \n",
       "24.0                 2014-01-01     1                     4.0   \n",
       "120.0                2014-05-01     0                    10.0   \n",
       "                     2014-06-01     0                    10.0   \n",
       "40.0                 2014-06-01     0                     4.0   \n",
       "61.0                 2014-07-01     0                     3.0   \n",
       "...                               ...                     ...   \n",
       "48.0                 2018-01-01     1                    18.0   \n",
       "15.0                 2018-02-01     1                    18.0   \n",
       "48.0                 2018-03-01     1                    18.0   \n",
       "26.0                 2018-03-01     1                     4.0   \n",
       "78.0                 2018-03-01     1                     2.0   \n",
       "\n",
       "                                 state_senate_district  n_killed  n_injured  \\\n",
       "state_house_district Month-Yr                                                 \n",
       "24.0                 2014-01-01                   24.0         0          0   \n",
       "120.0                2014-05-01                   24.0         1          0   \n",
       "                     2014-06-01                   24.0         1          0   \n",
       "40.0                 2014-06-01                   28.0         1          0   \n",
       "61.0                 2014-07-01                   26.0         0          0   \n",
       "...                                                ...       ...        ...   \n",
       "48.0                 2018-01-01                   46.0         0          0   \n",
       "15.0                 2018-02-01                   46.0         1          0   \n",
       "48.0                 2018-03-01                   46.0         0          0   \n",
       "26.0                 2018-03-01                   26.0         0          1   \n",
       "78.0                 2018-03-01                   39.0         0          1   \n",
       "\n",
       "                                year1  \n",
       "state_house_district Month-Yr          \n",
       "24.0                 2014-01-01  2014  \n",
       "120.0                2014-05-01  2014  \n",
       "                     2014-06-01  2014  \n",
       "40.0                 2014-06-01  2014  \n",
       "61.0                 2014-07-01  2014  \n",
       "...                               ...  \n",
       "48.0                 2018-01-01  2018  \n",
       "15.0                 2018-02-01  2018  \n",
       "48.0                 2018-03-01  2018  \n",
       "26.0                 2018-03-01  2018  \n",
       "78.0                 2018-03-01  2018  \n",
       "\n",
       "[61 rows x 6 columns]"
      ]
     },
     "execution_count": 62,
     "metadata": {},
     "output_type": "execute_result"
    }
   ],
   "source": [
    "washington['n_guns_involved_T_F'] = washington['n_guns_involved'].notna()\n",
    "washington1 = pd.get_dummies(washington['n_guns_involved_T_F'], drop_first=True)\n",
    "washington1 = washington1.join(washington[['Month-Yr','congressional_district', 'state_senate_district','state_house_district','n_killed','n_injured','year1']])\n",
    "washington1.dropna(subset=['congressional_district', 'state_senate_district','state_house_district'],inplace=True)\n",
    "washington1 = washington1.set_index([\"state_house_district\", \"Month-Yr\"])\n",
    "washington1"
   ]
  },
  {
   "cell_type": "code",
   "execution_count": 63,
   "metadata": {},
   "outputs": [
    {
     "data": {
      "text/html": [
       "<table class=\"simpletable\">\n",
       "<caption>PooledOLS Estimation Summary</caption>\n",
       "<tr>\n",
       "  <th>Dep. Variable:</th>        <td>n_killed</td>     <th>  R-squared:         </th>   <td>0.1220</td> \n",
       "</tr>\n",
       "<tr>\n",
       "  <th>Estimator:</th>            <td>PooledOLS</td>    <th>  R-squared (Between):</th>  <td>0.2072</td> \n",
       "</tr>\n",
       "<tr>\n",
       "  <th>No. Observations:</th>        <td>61</td>        <th>  R-squared (Within):</th>   <td>0.0613</td> \n",
       "</tr>\n",
       "<tr>\n",
       "  <th>Date:</th>             <td>Wed, Apr 28 2021</td> <th>  R-squared (Overall):</th>  <td>0.1220</td> \n",
       "</tr>\n",
       "<tr>\n",
       "  <th>Time:</th>                 <td>18:32:36</td>     <th>  Log-likelihood     </th>   <td>-43.764</td>\n",
       "</tr>\n",
       "<tr>\n",
       "  <th>Cov. Estimator:</th>       <td>Clustered</td>    <th>                     </th>      <td></td>    \n",
       "</tr>\n",
       "<tr>\n",
       "  <th></th>                          <td></td>         <th>  F-statistic:       </th>   <td>1.0523</td> \n",
       "</tr>\n",
       "<tr>\n",
       "  <th>Entities:</th>                <td>22</td>        <th>  P-value            </th>   <td>0.4069</td> \n",
       "</tr>\n",
       "<tr>\n",
       "  <th>Avg Obs:</th>               <td>2.7727</td>      <th>  Distribution:      </th>   <td>F(7,53)</td>\n",
       "</tr>\n",
       "<tr>\n",
       "  <th>Min Obs:</th>               <td>1.0000</td>      <th>                     </th>      <td></td>    \n",
       "</tr>\n",
       "<tr>\n",
       "  <th>Max Obs:</th>               <td>10.0000</td>     <th>  F-statistic (robust):</th> <td>8.0023</td> \n",
       "</tr>\n",
       "<tr>\n",
       "  <th></th>                          <td></td>         <th>  P-value            </th>   <td>0.0000</td> \n",
       "</tr>\n",
       "<tr>\n",
       "  <th>Time periods:</th>            <td>38</td>        <th>  Distribution:      </th>   <td>F(7,53)</td>\n",
       "</tr>\n",
       "<tr>\n",
       "  <th>Avg Obs:</th>               <td>1.6053</td>      <th>                     </th>      <td></td>    \n",
       "</tr>\n",
       "<tr>\n",
       "  <th>Min Obs:</th>               <td>1.0000</td>      <th>                     </th>      <td></td>    \n",
       "</tr>\n",
       "<tr>\n",
       "  <th>Max Obs:</th>               <td>5.0000</td>      <th>                     </th>      <td></td>    \n",
       "</tr>\n",
       "<tr>\n",
       "  <th></th>                          <td></td>         <th>                     </th>      <td></td>    \n",
       "</tr>\n",
       "</table>\n",
       "<table class=\"simpletable\">\n",
       "<caption>Parameter Estimates</caption>\n",
       "<tr>\n",
       "             <td></td>            <th>Parameter</th> <th>Std. Err.</th> <th>T-stat</th>  <th>P-value</th> <th>Lower CI</th> <th>Upper CI</th>\n",
       "</tr>\n",
       "<tr>\n",
       "  <th>True</th>                    <td>-0.1387</td>   <td>0.1634</td>   <td>-0.8490</td> <td>0.3997</td>   <td>-0.4664</td>  <td>0.1890</td> \n",
       "</tr>\n",
       "<tr>\n",
       "  <th>congressional_district</th>  <td>0.0119</td>    <td>0.0121</td>   <td>0.9820</td>  <td>0.3306</td>   <td>-0.0124</td>  <td>0.0363</td> \n",
       "</tr>\n",
       "<tr>\n",
       "  <th>state_senate_district</th>   <td>-0.0054</td>   <td>0.0035</td>   <td>-1.5463</td> <td>0.1280</td>   <td>-0.0124</td>  <td>0.0016</td> \n",
       "</tr>\n",
       "<tr>\n",
       "  <th>year1.2014</th>              <td>0.6868</td>    <td>0.2114</td>   <td>3.2491</td>  <td>0.0020</td>   <td>0.2628</td>   <td>1.1107</td> \n",
       "</tr>\n",
       "<tr>\n",
       "  <th>year1.2015</th>              <td>0.5165</td>    <td>0.1525</td>   <td>3.3861</td>  <td>0.0013</td>   <td>0.2105</td>   <td>0.8224</td> \n",
       "</tr>\n",
       "<tr>\n",
       "  <th>year1.2016</th>              <td>0.3226</td>    <td>0.1226</td>   <td>2.6305</td>  <td>0.0111</td>   <td>0.0766</td>   <td>0.5686</td> \n",
       "</tr>\n",
       "<tr>\n",
       "  <th>year1.2017</th>              <td>0.4500</td>    <td>0.2139</td>   <td>2.1040</td>  <td>0.0401</td>   <td>0.0210</td>   <td>0.8790</td> \n",
       "</tr>\n",
       "<tr>\n",
       "  <th>year1.2018</th>              <td>0.3639</td>    <td>0.2102</td>   <td>1.7316</td>  <td>0.0892</td>   <td>-0.0576</td>  <td>0.7855</td> \n",
       "</tr>\n",
       "</table><br/>id: 0x1c8d63f9c40"
      ],
      "text/plain": [
       "                          PooledOLS Estimation Summary                          \n",
       "================================================================================\n",
       "Dep. Variable:               n_killed   R-squared:                        0.1220\n",
       "Estimator:                  PooledOLS   R-squared (Between):              0.2072\n",
       "No. Observations:                  61   R-squared (Within):               0.0613\n",
       "Date:                Wed, Apr 28 2021   R-squared (Overall):              0.1220\n",
       "Time:                        18:32:36   Log-likelihood                   -43.764\n",
       "Cov. Estimator:             Clustered                                           \n",
       "                                        F-statistic:                      1.0523\n",
       "Entities:                          22   P-value                           0.4069\n",
       "Avg Obs:                       2.7727   Distribution:                    F(7,53)\n",
       "Min Obs:                       1.0000                                           \n",
       "Max Obs:                      10.0000   F-statistic (robust):             8.0023\n",
       "                                        P-value                           0.0000\n",
       "Time periods:                      38   Distribution:                    F(7,53)\n",
       "Avg Obs:                       1.6053                                           \n",
       "Min Obs:                       1.0000                                           \n",
       "Max Obs:                       5.0000                                           \n",
       "                                                                                \n",
       "                                   Parameter Estimates                                    \n",
       "==========================================================================================\n",
       "                        Parameter  Std. Err.     T-stat    P-value    Lower CI    Upper CI\n",
       "------------------------------------------------------------------------------------------\n",
       "True                      -0.1387     0.1634    -0.8490     0.3997     -0.4664      0.1890\n",
       "congressional_district     0.0119     0.0121     0.9820     0.3306     -0.0124      0.0363\n",
       "state_senate_district     -0.0054     0.0035    -1.5463     0.1280     -0.0124      0.0016\n",
       "year1.2014                 0.6868     0.2114     3.2491     0.0020      0.2628      1.1107\n",
       "year1.2015                 0.5165     0.1525     3.3861     0.0013      0.2105      0.8224\n",
       "year1.2016                 0.3226     0.1226     2.6305     0.0111      0.0766      0.5686\n",
       "year1.2017                 0.4500     0.2139     2.1040     0.0401      0.0210      0.8790\n",
       "year1.2018                 0.3639     0.2102     1.7316     0.0892     -0.0576      0.7855\n",
       "==========================================================================================\n",
       "PanelResults, id: 0x1c8d63f9c40"
      ]
     },
     "execution_count": 63,
     "metadata": {},
     "output_type": "execute_result"
    }
   ],
   "source": [
    "y_washington = washington1['n_killed']\n",
    "X_washington = washington1.drop(['n_killed','n_injured'],axis=1)\n",
    "\n",
    "# washington_exog = sm.add_constant(X_washington)\n",
    "washington_mod = PooledOLS(y_washington, X_washington)#,check_rank =False)\n",
    "washington_pooled_res = washington_mod.fit(cov_type='clustered', cluster_entity=True)\n",
    "washington_pooled_res"
   ]
  },
  {
   "cell_type": "code",
   "execution_count": 64,
   "metadata": {},
   "outputs": [
    {
     "name": "stdout",
     "output_type": "stream",
     "text": [
      "ADF Test:\n",
      "ADF test statistics    -1.114177e+01\n",
      "p-value                 3.095486e-20\n",
      "# lag used              1.400000e+01\n",
      "# observation           3.264000e+03\n",
      "critical value (1%)    -3.432355e+00\n",
      "critical value (5%)    -2.862426e+00\n",
      "critical value (10%)   -2.567242e+00\n",
      "Strong evidence against the null hypothesis\n",
      "Reject the null hypothesis\n",
      "Data has no unit root and is stationary\n"
     ]
    }
   ],
   "source": [
    "adf_test(washington2['n_killed'])"
   ]
  },
  {
   "cell_type": "code",
   "execution_count": 65,
   "metadata": {},
   "outputs": [
    {
     "data": {
      "text/plain": [
       "56"
      ]
     },
     "execution_count": 65,
     "metadata": {},
     "output_type": "execute_result"
    },
    {
     "data": {
      "image/png": "[encoded data removed]",
      "text/plain": [
       "<Figure size 432x288 with 1 Axes>"
      ]
     },
     "metadata": {
      "needs_background": "light"
     },
     "output_type": "display_data"
    },
    {
     "data": {
      "image/png": "[encoded data removed]",
      "text/plain": [
       "<Figure size 432x288 with 1 Axes>"
      ]
     },
     "metadata": {
      "needs_background": "light"
     },
     "output_type": "display_data"
    }
   ],
   "source": [
    "washington2 = washington2.groupby([washington2.index])[['n_killed']].agg(np.sum)\n",
    "plot_acf(washington2,lags = 40);\n",
    "plot_pacf(washington2,lags = 40);\n",
    "len(washington2)"
   ]
  },
  {
   "cell_type": "code",
   "execution_count": 66,
   "metadata": {},
   "outputs": [],
   "source": [
    "washington2_train = washington2.iloc[:44]\n",
    "washington2_test = washington2.iloc[44:]"
   ]
  },
  {
   "cell_type": "code",
   "execution_count": 67,
   "metadata": {},
   "outputs": [
    {
     "data": {
      "text/html": [
       "<table class=\"simpletable\">\n",
       "<caption>ARMA Model Results</caption>\n",
       "<tr>\n",
       "  <th>Dep. Variable:</th>     <td>n_killed</td>     <th>  No. Observations:  </th>    <td>56</td>   \n",
       "</tr>\n",
       "<tr>\n",
       "  <th>Model:</th>            <td>ARMA(0, 2)</td>    <th>  Log Likelihood     </th> <td>-151.847</td>\n",
       "</tr>\n",
       "<tr>\n",
       "  <th>Method:</th>             <td>css-mle</td>     <th>  S.D. of innovations</th>   <td>3.638</td> \n",
       "</tr>\n",
       "<tr>\n",
       "  <th>Date:</th>          <td>Wed, 28 Apr 2021</td> <th>  AIC                </th>  <td>311.694</td>\n",
       "</tr>\n",
       "<tr>\n",
       "  <th>Time:</th>              <td>18:32:41</td>     <th>  BIC                </th>  <td>319.796</td>\n",
       "</tr>\n",
       "<tr>\n",
       "  <th>Sample:</th>                <td>0</td>        <th>  HQIC               </th>  <td>314.835</td>\n",
       "</tr>\n",
       "<tr>\n",
       "  <th></th>                       <td> </td>        <th>                     </th>     <td> </td>   \n",
       "</tr>\n",
       "</table>\n",
       "<table class=\"simpletable\">\n",
       "<tr>\n",
       "         <td></td>           <th>coef</th>     <th>std err</th>      <th>z</th>      <th>P>|z|</th>  <th>[0.025</th>    <th>0.975]</th>  \n",
       "</tr>\n",
       "<tr>\n",
       "  <th>const</th>          <td>    8.3207</td> <td>    0.701</td> <td>   11.871</td> <td> 0.000</td> <td>    6.947</td> <td>    9.694</td>\n",
       "</tr>\n",
       "<tr>\n",
       "  <th>ma.L1.n_killed</th> <td>    0.2595</td> <td>    0.159</td> <td>    1.632</td> <td> 0.103</td> <td>   -0.052</td> <td>    0.571</td>\n",
       "</tr>\n",
       "<tr>\n",
       "  <th>ma.L2.n_killed</th> <td>    0.1921</td> <td>    0.146</td> <td>    1.314</td> <td> 0.189</td> <td>   -0.094</td> <td>    0.479</td>\n",
       "</tr>\n",
       "</table>\n",
       "<table class=\"simpletable\">\n",
       "<caption>Roots</caption>\n",
       "<tr>\n",
       "    <td></td>   <th>            Real</th>  <th>         Imaginary</th> <th>         Modulus</th>  <th>        Frequency</th>\n",
       "</tr>\n",
       "<tr>\n",
       "  <th>MA.1</th> <td>          -0.6755</td> <td>          -2.1794j</td> <td>           2.2817</td> <td>          -0.2978</td>\n",
       "</tr>\n",
       "<tr>\n",
       "  <th>MA.2</th> <td>          -0.6755</td> <td>          +2.1794j</td> <td>           2.2817</td> <td>           0.2978</td>\n",
       "</tr>\n",
       "</table>"
      ],
      "text/plain": [
       "<class 'statsmodels.iolib.summary.Summary'>\n",
       "\"\"\"\n",
       "                              ARMA Model Results                              \n",
       "==============================================================================\n",
       "Dep. Variable:               n_killed   No. Observations:                   56\n",
       "Model:                     ARMA(0, 2)   Log Likelihood                -151.847\n",
       "Method:                       css-mle   S.D. of innovations              3.638\n",
       "Date:                Wed, 28 Apr 2021   AIC                            311.694\n",
       "Time:                        18:32:41   BIC                            319.796\n",
       "Sample:                             0   HQIC                           314.835\n",
       "                                                                              \n",
       "==================================================================================\n",
       "                     coef    std err          z      P>|z|      [0.025      0.975]\n",
       "----------------------------------------------------------------------------------\n",
       "const              8.3207      0.701     11.871      0.000       6.947       9.694\n",
       "ma.L1.n_killed     0.2595      0.159      1.632      0.103      -0.052       0.571\n",
       "ma.L2.n_killed     0.1921      0.146      1.314      0.189      -0.094       0.479\n",
       "                                    Roots                                    \n",
       "=============================================================================\n",
       "                  Real          Imaginary           Modulus         Frequency\n",
       "-----------------------------------------------------------------------------\n",
       "MA.1           -0.6755           -2.1794j            2.2817           -0.2978\n",
       "MA.2           -0.6755           +2.1794j            2.2817            0.2978\n",
       "-----------------------------------------------------------------------------\n",
       "\"\"\""
      ]
     },
     "execution_count": 67,
     "metadata": {},
     "output_type": "execute_result"
    }
   ],
   "source": [
    "washington2_model = ARIMA(washington2['n_killed'],order=(0,0,2))\n",
    "washington2_result = washington2_model.fit(disp=-1)\n",
    "washington2_result.summary()"
   ]
  },
  {
   "cell_type": "code",
   "execution_count": 68,
   "metadata": {},
   "outputs": [
    {
     "data": {
      "text/plain": [
       "date\n",
       "2017-04-01    9.166258\n",
       "2017-05-01    8.204521\n",
       "2017-06-01    7.918927\n",
       "2017-07-01    9.013527\n",
       "2017-08-01    9.495420\n",
       "2017-09-01    8.765790\n",
       "2017-10-01    8.286307\n",
       "2017-11-01    8.810381\n",
       "2017-12-01    8.699074\n",
       "2018-01-01    8.435206\n",
       "2018-02-01    8.525060\n",
       "2018-03-01    7.254938\n",
       "dtype: float64"
      ]
     },
     "execution_count": 68,
     "metadata": {},
     "output_type": "execute_result"
    }
   ],
   "source": [
    "washington2_start = len(washington2_train)\n",
    "washington2_end = len(washington2_train)+len(washington2_test)-1\n",
    "washington2_prediction = washington2_result.predict(start=washington2_start,end=washington2_end,typ='levels')\n",
    "washington2_prediction"
   ]
  },
  {
   "cell_type": "code",
   "execution_count": 69,
   "metadata": {},
   "outputs": [
    {
     "data": {
      "text/plain": [
       "<matplotlib.axes._subplots.AxesSubplot at 0x1c8dc311730>"
      ]
     },
     "execution_count": 69,
     "metadata": {},
     "output_type": "execute_result"
    },
    {
     "data": {
      "image/png": "[encoded data removed]",
      "text/plain": [
       "<Figure size 864x576 with 1 Axes>"
      ]
     },
     "metadata": {
      "needs_background": "light"
     },
     "output_type": "display_data"
    }
   ],
   "source": [
    "fig, ax = plt.subplots()\n",
    "washington2_test[['n_killed']].plot(legend=True,figsize=(12,8),ax=ax)\n",
    "washington2_prediction.plot(legend=True,figsize=(12,8),ax=ax)"
   ]
  },
  {
   "cell_type": "markdown",
   "metadata": {},
   "source": [
    "# New Orleans"
   ]
  },
  {
   "cell_type": "code",
   "execution_count": 70,
   "metadata": {},
   "outputs": [
    {
     "data": {
      "text/html": [
       "<div>\n",
       "<style scoped>\n",
       "    .dataframe tbody tr th:only-of-type {\n",
       "        vertical-align: middle;\n",
       "    }\n",
       "\n",
       "    .dataframe tbody tr th {\n",
       "        vertical-align: top;\n",
       "    }\n",
       "\n",
       "    .dataframe thead th {\n",
       "        text-align: right;\n",
       "    }\n",
       "</style>\n",
       "<table border=\"1\" class=\"dataframe\">\n",
       "  <thead>\n",
       "    <tr style=\"text-align: right;\">\n",
       "      <th></th>\n",
       "      <th></th>\n",
       "      <th>True</th>\n",
       "      <th>congressional_district</th>\n",
       "      <th>state_senate_district</th>\n",
       "      <th>n_killed</th>\n",
       "      <th>n_injured</th>\n",
       "      <th>year1</th>\n",
       "    </tr>\n",
       "    <tr>\n",
       "      <th>state_house_district</th>\n",
       "      <th>Month-Yr</th>\n",
       "      <th></th>\n",
       "      <th></th>\n",
       "      <th></th>\n",
       "      <th></th>\n",
       "      <th></th>\n",
       "      <th></th>\n",
       "    </tr>\n",
       "  </thead>\n",
       "  <tbody>\n",
       "    <tr>\n",
       "      <th rowspan=\"2\" valign=\"top\">93.0</th>\n",
       "      <th>2013-01-01</th>\n",
       "      <td>0</td>\n",
       "      <td>2.0</td>\n",
       "      <td>5.0</td>\n",
       "      <td>0</td>\n",
       "      <td>5</td>\n",
       "      <td>2013</td>\n",
       "    </tr>\n",
       "    <tr>\n",
       "      <th>2013-02-01</th>\n",
       "      <td>1</td>\n",
       "      <td>2.0</td>\n",
       "      <td>4.0</td>\n",
       "      <td>0</td>\n",
       "      <td>4</td>\n",
       "      <td>2013</td>\n",
       "    </tr>\n",
       "    <tr>\n",
       "      <th rowspan=\"2\" valign=\"top\">97.0</th>\n",
       "      <th>2013-05-01</th>\n",
       "      <td>1</td>\n",
       "      <td>2.0</td>\n",
       "      <td>4.0</td>\n",
       "      <td>0</td>\n",
       "      <td>19</td>\n",
       "      <td>2013</td>\n",
       "    </tr>\n",
       "    <tr>\n",
       "      <th>2013-06-01</th>\n",
       "      <td>1</td>\n",
       "      <td>2.0</td>\n",
       "      <td>3.0</td>\n",
       "      <td>0</td>\n",
       "      <td>4</td>\n",
       "      <td>2013</td>\n",
       "    </tr>\n",
       "    <tr>\n",
       "      <th rowspan=\"3\" valign=\"top\">93.0</th>\n",
       "      <th>2014-01-01</th>\n",
       "      <td>0</td>\n",
       "      <td>2.0</td>\n",
       "      <td>4.0</td>\n",
       "      <td>1</td>\n",
       "      <td>0</td>\n",
       "      <td>2014</td>\n",
       "    </tr>\n",
       "    <tr>\n",
       "      <th>...</th>\n",
       "      <td>...</td>\n",
       "      <td>...</td>\n",
       "      <td>...</td>\n",
       "      <td>...</td>\n",
       "      <td>...</td>\n",
       "      <td>...</td>\n",
       "    </tr>\n",
       "    <tr>\n",
       "      <th>2018-03-01</th>\n",
       "      <td>1</td>\n",
       "      <td>2.0</td>\n",
       "      <td>4.0</td>\n",
       "      <td>1</td>\n",
       "      <td>0</td>\n",
       "      <td>2018</td>\n",
       "    </tr>\n",
       "    <tr>\n",
       "      <th>100.0</th>\n",
       "      <th>2018-03-01</th>\n",
       "      <td>1</td>\n",
       "      <td>2.0</td>\n",
       "      <td>3.0</td>\n",
       "      <td>0</td>\n",
       "      <td>1</td>\n",
       "      <td>2018</td>\n",
       "    </tr>\n",
       "    <tr>\n",
       "      <th>102.0</th>\n",
       "      <th>2018-03-01</th>\n",
       "      <td>1</td>\n",
       "      <td>2.0</td>\n",
       "      <td>3.0</td>\n",
       "      <td>0</td>\n",
       "      <td>0</td>\n",
       "      <td>2018</td>\n",
       "    </tr>\n",
       "    <tr>\n",
       "      <th>103.0</th>\n",
       "      <th>2018-03-01</th>\n",
       "      <td>1</td>\n",
       "      <td>2.0</td>\n",
       "      <td>3.0</td>\n",
       "      <td>1</td>\n",
       "      <td>1</td>\n",
       "      <td>2018</td>\n",
       "    </tr>\n",
       "    <tr>\n",
       "      <th>99.0</th>\n",
       "      <th>2018-03-01</th>\n",
       "      <td>1</td>\n",
       "      <td>2.0</td>\n",
       "      <td>3.0</td>\n",
       "      <td>0</td>\n",
       "      <td>0</td>\n",
       "      <td>2018</td>\n",
       "    </tr>\n",
       "  </tbody>\n",
       "</table>\n",
       "<p>2896 rows × 6 columns</p>\n",
       "</div>"
      ],
      "text/plain": [
       "                                 True  congressional_district  \\\n",
       "state_house_district Month-Yr                                   \n",
       "93.0                 2013-01-01     0                     2.0   \n",
       "                     2013-02-01     1                     2.0   \n",
       "97.0                 2013-05-01     1                     2.0   \n",
       "                     2013-06-01     1                     2.0   \n",
       "93.0                 2014-01-01     0                     2.0   \n",
       "...                               ...                     ...   \n",
       "                     2018-03-01     1                     2.0   \n",
       "100.0                2018-03-01     1                     2.0   \n",
       "102.0                2018-03-01     1                     2.0   \n",
       "103.0                2018-03-01     1                     2.0   \n",
       "99.0                 2018-03-01     1                     2.0   \n",
       "\n",
       "                                 state_senate_district  n_killed  n_injured  \\\n",
       "state_house_district Month-Yr                                                 \n",
       "93.0                 2013-01-01                    5.0         0          5   \n",
       "                     2013-02-01                    4.0         0          4   \n",
       "97.0                 2013-05-01                    4.0         0         19   \n",
       "                     2013-06-01                    3.0         0          4   \n",
       "93.0                 2014-01-01                    4.0         1          0   \n",
       "...                                                ...       ...        ...   \n",
       "                     2018-03-01                    4.0         1          0   \n",
       "100.0                2018-03-01                    3.0         0          1   \n",
       "102.0                2018-03-01                    3.0         0          0   \n",
       "103.0                2018-03-01                    3.0         1          1   \n",
       "99.0                 2018-03-01                    3.0         0          0   \n",
       "\n",
       "                                year1  \n",
       "state_house_district Month-Yr          \n",
       "93.0                 2013-01-01  2013  \n",
       "                     2013-02-01  2013  \n",
       "97.0                 2013-05-01  2013  \n",
       "                     2013-06-01  2013  \n",
       "93.0                 2014-01-01  2014  \n",
       "...                               ...  \n",
       "                     2018-03-01  2018  \n",
       "100.0                2018-03-01  2018  \n",
       "102.0                2018-03-01  2018  \n",
       "103.0                2018-03-01  2018  \n",
       "99.0                 2018-03-01  2018  \n",
       "\n",
       "[2896 rows x 6 columns]"
      ]
     },
     "execution_count": 70,
     "metadata": {},
     "output_type": "execute_result"
    }
   ],
   "source": [
    "newOrleans['n_guns_involved_T_F'] = newOrleans['n_guns_involved'].notna()\n",
    "newOrleans1 = pd.get_dummies(newOrleans['n_guns_involved_T_F'], drop_first=True)\n",
    "newOrleans1 = newOrleans1.join(newOrleans[['Month-Yr','congressional_district', 'state_senate_district','state_house_district','n_killed','n_injured','year1']])\n",
    "newOrleans1.dropna(subset=['congressional_district', 'state_senate_district','state_house_district'],inplace=True)\n",
    "newOrleans1 = newOrleans1.set_index([\"state_house_district\", \"Month-Yr\"])\n",
    "newOrleans1"
   ]
  },
  {
   "cell_type": "code",
   "execution_count": 71,
   "metadata": {},
   "outputs": [
    {
     "data": {
      "text/html": [
       "<table class=\"simpletable\">\n",
       "<caption>PooledOLS Estimation Summary</caption>\n",
       "<tr>\n",
       "  <th>Dep. Variable:</th>        <td>n_killed</td>     <th>  R-squared:         </th>    <td>0.0102</td>  \n",
       "</tr>\n",
       "<tr>\n",
       "  <th>Estimator:</th>            <td>PooledOLS</td>    <th>  R-squared (Between):</th>   <td>0.1938</td>  \n",
       "</tr>\n",
       "<tr>\n",
       "  <th>No. Observations:</th>       <td>2896</td>       <th>  R-squared (Within):</th>    <td>0.0084</td>  \n",
       "</tr>\n",
       "<tr>\n",
       "  <th>Date:</th>             <td>Wed, Apr 28 2021</td> <th>  R-squared (Overall):</th>   <td>0.0102</td>  \n",
       "</tr>\n",
       "<tr>\n",
       "  <th>Time:</th>                 <td>18:32:51</td>     <th>  Log-likelihood     </th>    <td>-1812.9</td> \n",
       "</tr>\n",
       "<tr>\n",
       "  <th>Cov. Estimator:</th>       <td>Clustered</td>    <th>                     </th>       <td></td>     \n",
       "</tr>\n",
       "<tr>\n",
       "  <th></th>                          <td></td>         <th>  F-statistic:       </th>    <td>3.7108</td>  \n",
       "</tr>\n",
       "<tr>\n",
       "  <th>Entities:</th>                <td>16</td>        <th>  P-value            </th>    <td>0.0003</td>  \n",
       "</tr>\n",
       "<tr>\n",
       "  <th>Avg Obs:</th>               <td>181.00</td>      <th>  Distribution:      </th>   <td>F(8,2887)</td>\n",
       "</tr>\n",
       "<tr>\n",
       "  <th>Min Obs:</th>               <td>1.0000</td>      <th>                     </th>       <td></td>     \n",
       "</tr>\n",
       "<tr>\n",
       "  <th>Max Obs:</th>               <td>782.00</td>      <th>  F-statistic (robust):</th>  <td>141.13</td>  \n",
       "</tr>\n",
       "<tr>\n",
       "  <th></th>                          <td></td>         <th>  P-value            </th>    <td>0.0000</td>  \n",
       "</tr>\n",
       "<tr>\n",
       "  <th>Time periods:</th>            <td>55</td>        <th>  Distribution:      </th>   <td>F(8,2887)</td>\n",
       "</tr>\n",
       "<tr>\n",
       "  <th>Avg Obs:</th>               <td>52.655</td>      <th>                     </th>       <td></td>     \n",
       "</tr>\n",
       "<tr>\n",
       "  <th>Min Obs:</th>               <td>1.0000</td>      <th>                     </th>       <td></td>     \n",
       "</tr>\n",
       "<tr>\n",
       "  <th>Max Obs:</th>               <td>83.000</td>      <th>                     </th>       <td></td>     \n",
       "</tr>\n",
       "<tr>\n",
       "  <th></th>                          <td></td>         <th>                     </th>       <td></td>     \n",
       "</tr>\n",
       "</table>\n",
       "<table class=\"simpletable\">\n",
       "<caption>Parameter Estimates</caption>\n",
       "<tr>\n",
       "             <td></td>            <th>Parameter</th> <th>Std. Err.</th> <th>T-stat</th>  <th>P-value</th> <th>Lower CI</th> <th>Upper CI</th>\n",
       "</tr>\n",
       "<tr>\n",
       "  <th>const</th>                   <td>0.0225</td>    <td>0.0459</td>   <td>0.4914</td>  <td>0.6232</td>   <td>-0.0674</td>  <td>0.1125</td> \n",
       "</tr>\n",
       "<tr>\n",
       "  <th>True</th>                    <td>0.0433</td>    <td>0.0222</td>   <td>1.9513</td>  <td>0.0511</td>   <td>-0.0002</td>  <td>0.0868</td> \n",
       "</tr>\n",
       "<tr>\n",
       "  <th>congressional_district</th>  <td>0.0085</td>    <td>0.0075</td>   <td>1.1424</td>  <td>0.2534</td>   <td>-0.0061</td>  <td>0.0232</td> \n",
       "</tr>\n",
       "<tr>\n",
       "  <th>state_senate_district</th>   <td>-0.0180</td>   <td>0.0094</td>   <td>-1.9238</td> <td>0.0545</td>   <td>-0.0364</td>  <td>0.0003</td> \n",
       "</tr>\n",
       "<tr>\n",
       "  <th>year1.2014</th>              <td>0.2565</td>    <td>0.0296</td>   <td>8.6615</td>  <td>0.0000</td>   <td>0.1984</td>   <td>0.3146</td> \n",
       "</tr>\n",
       "<tr>\n",
       "  <th>year1.2015</th>              <td>0.3003</td>    <td>0.0260</td>   <td>11.548</td>  <td>0.0000</td>   <td>0.2493</td>   <td>0.3513</td> \n",
       "</tr>\n",
       "<tr>\n",
       "  <th>year1.2016</th>              <td>0.2002</td>    <td>0.0275</td>   <td>7.2701</td>  <td>0.0000</td>   <td>0.1462</td>   <td>0.2542</td> \n",
       "</tr>\n",
       "<tr>\n",
       "  <th>year1.2017</th>              <td>0.2064</td>    <td>0.0417</td>   <td>4.9507</td>  <td>0.0000</td>   <td>0.1246</td>   <td>0.2881</td> \n",
       "</tr>\n",
       "<tr>\n",
       "  <th>year1.2018</th>              <td>0.3445</td>    <td>0.0273</td>   <td>12.626</td>  <td>0.0000</td>   <td>0.2910</td>   <td>0.3980</td> \n",
       "</tr>\n",
       "</table><br/>id: 0x1c8d88831f0"
      ],
      "text/plain": [
       "                          PooledOLS Estimation Summary                          \n",
       "================================================================================\n",
       "Dep. Variable:               n_killed   R-squared:                        0.0102\n",
       "Estimator:                  PooledOLS   R-squared (Between):              0.1938\n",
       "No. Observations:                2896   R-squared (Within):               0.0084\n",
       "Date:                Wed, Apr 28 2021   R-squared (Overall):              0.0102\n",
       "Time:                        18:32:51   Log-likelihood                   -1812.9\n",
       "Cov. Estimator:             Clustered                                           \n",
       "                                        F-statistic:                      3.7108\n",
       "Entities:                          16   P-value                           0.0003\n",
       "Avg Obs:                       181.00   Distribution:                  F(8,2887)\n",
       "Min Obs:                       1.0000                                           \n",
       "Max Obs:                       782.00   F-statistic (robust):             141.13\n",
       "                                        P-value                           0.0000\n",
       "Time periods:                      55   Distribution:                  F(8,2887)\n",
       "Avg Obs:                       52.655                                           \n",
       "Min Obs:                       1.0000                                           \n",
       "Max Obs:                       83.000                                           \n",
       "                                                                                \n",
       "                                   Parameter Estimates                                    \n",
       "==========================================================================================\n",
       "                        Parameter  Std. Err.     T-stat    P-value    Lower CI    Upper CI\n",
       "------------------------------------------------------------------------------------------\n",
       "const                      0.0225     0.0459     0.4914     0.6232     -0.0674      0.1125\n",
       "True                       0.0433     0.0222     1.9513     0.0511     -0.0002      0.0868\n",
       "congressional_district     0.0085     0.0075     1.1424     0.2534     -0.0061      0.0232\n",
       "state_senate_district     -0.0180     0.0094    -1.9238     0.0545     -0.0364      0.0003\n",
       "year1.2014                 0.2565     0.0296     8.6615     0.0000      0.1984      0.3146\n",
       "year1.2015                 0.3003     0.0260     11.548     0.0000      0.2493      0.3513\n",
       "year1.2016                 0.2002     0.0275     7.2701     0.0000      0.1462      0.2542\n",
       "year1.2017                 0.2064     0.0417     4.9507     0.0000      0.1246      0.2881\n",
       "year1.2018                 0.3445     0.0273     12.626     0.0000      0.2910      0.3980\n",
       "==========================================================================================\n",
       "PanelResults, id: 0x1c8d88831f0"
      ]
     },
     "execution_count": 71,
     "metadata": {},
     "output_type": "execute_result"
    }
   ],
   "source": [
    "y_newOrleans = newOrleans1['n_killed']\n",
    "X_newOrleans = newOrleans1.drop(['n_killed','n_injured'],axis=1)\n",
    "\n",
    "newOrleans_exog = sm.add_constant(X_newOrleans)\n",
    "newOrleans_mod = PooledOLS(y_newOrleans, newOrleans_exog)\n",
    "newOrleans_pooled_res = newOrleans_mod.fit(cov_type='clustered', cluster_entity=True)\n",
    "newOrleans_pooled_res"
   ]
  },
  {
   "cell_type": "code",
   "execution_count": 73,
   "metadata": {},
   "outputs": [
    {
     "name": "stdout",
     "output_type": "stream",
     "text": [
      "ADF Test:\n",
      "ADF test statistics     -4.902110\n",
      "p-value                  0.000035\n",
      "# lag used               0.000000\n",
      "# observation           54.000000\n",
      "critical value (1%)     -3.557709\n",
      "critical value (5%)     -2.916770\n",
      "critical value (10%)    -2.596222\n",
      "Strong evidence against the null hypothesis\n",
      "Reject the null hypothesis\n",
      "Data has no unit root and is stationary\n"
     ]
    }
   ],
   "source": [
    "adf_test(newOrleans2['n_killed'])"
   ]
  },
  {
   "cell_type": "code",
   "execution_count": 74,
   "metadata": {},
   "outputs": [
    {
     "data": {
      "text/plain": [
       "55"
      ]
     },
     "execution_count": 74,
     "metadata": {},
     "output_type": "execute_result"
    },
    {
     "data": {
      "image/png": "[encoded data removed]",
      "text/plain": [
       "<Figure size 432x288 with 1 Axes>"
      ]
     },
     "metadata": {
      "needs_background": "light"
     },
     "output_type": "display_data"
    },
    {
     "data": {
      "image/png": "[encoded data removed]",
      "text/plain": [
       "<Figure size 432x288 with 1 Axes>"
      ]
     },
     "metadata": {
      "needs_background": "light"
     },
     "output_type": "display_data"
    }
   ],
   "source": [
    "newOrleans2 = newOrleans2.groupby([newOrleans2.index])[['n_killed']].agg(np.sum)\n",
    "plot_acf(newOrleans2,lags = 40);\n",
    "plot_pacf(newOrleans2,lags = 40);\n",
    "len(newOrleans2)"
   ]
  },
  {
   "cell_type": "code",
   "execution_count": 77,
   "metadata": {},
   "outputs": [],
   "source": [
    "newOrleans2_train = newOrleans2.iloc[:43]\n",
    "newOrleans2_test = newOrleans2.iloc[43:]"
   ]
  },
  {
   "cell_type": "code",
   "execution_count": 76,
   "metadata": {},
   "outputs": [
    {
     "data": {
      "text/html": [
       "<table class=\"simpletable\">\n",
       "<caption>ARMA Model Results</caption>\n",
       "<tr>\n",
       "  <th>Dep. Variable:</th>     <td>n_killed</td>     <th>  No. Observations:  </th>    <td>55</td>   \n",
       "</tr>\n",
       "<tr>\n",
       "  <th>Model:</th>            <td>ARMA(1, 0)</td>    <th>  Log Likelihood     </th> <td>-169.531</td>\n",
       "</tr>\n",
       "<tr>\n",
       "  <th>Method:</th>             <td>css-mle</td>     <th>  S.D. of innovations</th>   <td>5.267</td> \n",
       "</tr>\n",
       "<tr>\n",
       "  <th>Date:</th>          <td>Wed, 28 Apr 2021</td> <th>  AIC                </th>  <td>345.063</td>\n",
       "</tr>\n",
       "<tr>\n",
       "  <th>Time:</th>              <td>18:33:19</td>     <th>  BIC                </th>  <td>351.085</td>\n",
       "</tr>\n",
       "<tr>\n",
       "  <th>Sample:</th>                <td>0</td>        <th>  HQIC               </th>  <td>347.391</td>\n",
       "</tr>\n",
       "<tr>\n",
       "  <th></th>                       <td> </td>        <th>                     </th>     <td> </td>   \n",
       "</tr>\n",
       "</table>\n",
       "<table class=\"simpletable\">\n",
       "<tr>\n",
       "         <td></td>           <th>coef</th>     <th>std err</th>      <th>z</th>      <th>P>|z|</th>  <th>[0.025</th>    <th>0.975]</th>  \n",
       "</tr>\n",
       "<tr>\n",
       "  <th>const</th>          <td>   12.5609</td> <td>    1.267</td> <td>    9.911</td> <td> 0.000</td> <td>   10.077</td> <td>   15.045</td>\n",
       "</tr>\n",
       "<tr>\n",
       "  <th>ar.L1.n_killed</th> <td>    0.4456</td> <td>    0.126</td> <td>    3.543</td> <td> 0.000</td> <td>    0.199</td> <td>    0.692</td>\n",
       "</tr>\n",
       "</table>\n",
       "<table class=\"simpletable\">\n",
       "<caption>Roots</caption>\n",
       "<tr>\n",
       "    <td></td>   <th>            Real</th>  <th>         Imaginary</th> <th>         Modulus</th>  <th>        Frequency</th>\n",
       "</tr>\n",
       "<tr>\n",
       "  <th>AR.1</th> <td>           2.2443</td> <td>          +0.0000j</td> <td>           2.2443</td> <td>           0.0000</td>\n",
       "</tr>\n",
       "</table>"
      ],
      "text/plain": [
       "<class 'statsmodels.iolib.summary.Summary'>\n",
       "\"\"\"\n",
       "                              ARMA Model Results                              \n",
       "==============================================================================\n",
       "Dep. Variable:               n_killed   No. Observations:                   55\n",
       "Model:                     ARMA(1, 0)   Log Likelihood                -169.531\n",
       "Method:                       css-mle   S.D. of innovations              5.267\n",
       "Date:                Wed, 28 Apr 2021   AIC                            345.063\n",
       "Time:                        18:33:19   BIC                            351.085\n",
       "Sample:                             0   HQIC                           347.391\n",
       "                                                                              \n",
       "==================================================================================\n",
       "                     coef    std err          z      P>|z|      [0.025      0.975]\n",
       "----------------------------------------------------------------------------------\n",
       "const             12.5609      1.267      9.911      0.000      10.077      15.045\n",
       "ar.L1.n_killed     0.4456      0.126      3.543      0.000       0.199       0.692\n",
       "                                    Roots                                    \n",
       "=============================================================================\n",
       "                  Real          Imaginary           Modulus         Frequency\n",
       "-----------------------------------------------------------------------------\n",
       "AR.1            2.2443           +0.0000j            2.2443            0.0000\n",
       "-----------------------------------------------------------------------------\n",
       "\"\"\""
      ]
     },
     "execution_count": 76,
     "metadata": {},
     "output_type": "execute_result"
    }
   ],
   "source": [
    "newOrleans2_model = ARIMA(newOrleans2['n_killed'],order=(1,0,0))\n",
    "newOrleans2_result = newOrleans2_model.fit(disp=-1)\n",
    "newOrleans2_result.summary()"
   ]
  },
  {
   "cell_type": "code",
   "execution_count": 78,
   "metadata": {},
   "outputs": [],
   "source": [
    "newOrleans2_start = len(newOrleans2_train)\n",
    "newOrleans2_end = len(newOrleans2_train)+len(newOrleans2_test)-1\n",
    "newOrleans2_prediction = newOrleans2_result.predict(start=newOrleans2_start,end=newOrleans2_end,typ='levels')"
   ]
  },
  {
   "cell_type": "code",
   "execution_count": 79,
   "metadata": {},
   "outputs": [
    {
     "data": {
      "text/plain": [
       "<matplotlib.axes._subplots.AxesSubplot at 0x1c8d9ecb280>"
      ]
     },
     "execution_count": 79,
     "metadata": {},
     "output_type": "execute_result"
    },
    {
     "data": {
      "image/png": "[encoded data removed]",
      "text/plain": [
       "<Figure size 864x576 with 1 Axes>"
      ]
     },
     "metadata": {
      "needs_background": "light"
     },
     "output_type": "display_data"
    }
   ],
   "source": [
    "fig, ax = plt.subplots()\n",
    "newOrleans2_test[['n_killed']].plot(legend=True,figsize=(12,8),ax=ax)\n",
    "newOrleans2_prediction.plot(legend=True,figsize=(12,8),ax=ax)"
   ]
  },
  {
   "cell_type": "markdown",
   "metadata": {},
   "source": [
    "# USA"
   ]
  },
  {
   "cell_type": "code",
   "execution_count": 80,
   "metadata": {},
   "outputs": [
    {
     "data": {
      "text/html": [
       "<div>\n",
       "<style scoped>\n",
       "    .dataframe tbody tr th:only-of-type {\n",
       "        vertical-align: middle;\n",
       "    }\n",
       "\n",
       "    .dataframe tbody tr th {\n",
       "        vertical-align: top;\n",
       "    }\n",
       "\n",
       "    .dataframe thead th {\n",
       "        text-align: right;\n",
       "    }\n",
       "</style>\n",
       "<table border=\"1\" class=\"dataframe\">\n",
       "  <thead>\n",
       "    <tr style=\"text-align: right;\">\n",
       "      <th></th>\n",
       "      <th></th>\n",
       "      <th>True</th>\n",
       "      <th>congressional_district</th>\n",
       "      <th>state_senate_district</th>\n",
       "      <th>n_killed</th>\n",
       "      <th>n_injured</th>\n",
       "      <th>year1</th>\n",
       "    </tr>\n",
       "    <tr>\n",
       "      <th>state_house_district</th>\n",
       "      <th>Month-Yr</th>\n",
       "      <th></th>\n",
       "      <th></th>\n",
       "      <th></th>\n",
       "      <th></th>\n",
       "      <th></th>\n",
       "      <th></th>\n",
       "    </tr>\n",
       "  </thead>\n",
       "  <tbody>\n",
       "    <tr>\n",
       "      <th>62.0</th>\n",
       "      <th>2013-01-01</th>\n",
       "      <td>0</td>\n",
       "      <td>43.0</td>\n",
       "      <td>35.0</td>\n",
       "      <td>1</td>\n",
       "      <td>3</td>\n",
       "      <td>2013</td>\n",
       "    </tr>\n",
       "    <tr>\n",
       "      <th>56.0</th>\n",
       "      <th>2013-01-01</th>\n",
       "      <td>1</td>\n",
       "      <td>9.0</td>\n",
       "      <td>13.0</td>\n",
       "      <td>1</td>\n",
       "      <td>3</td>\n",
       "      <td>2013</td>\n",
       "    </tr>\n",
       "    <tr>\n",
       "      <th>40.0</th>\n",
       "      <th>2013-01-01</th>\n",
       "      <td>0</td>\n",
       "      <td>6.0</td>\n",
       "      <td>28.0</td>\n",
       "      <td>4</td>\n",
       "      <td>0</td>\n",
       "      <td>2013</td>\n",
       "    </tr>\n",
       "    <tr>\n",
       "      <th>62.0</th>\n",
       "      <th>2013-01-01</th>\n",
       "      <td>1</td>\n",
       "      <td>6.0</td>\n",
       "      <td>27.0</td>\n",
       "      <td>2</td>\n",
       "      <td>2</td>\n",
       "      <td>2013</td>\n",
       "    </tr>\n",
       "    <tr>\n",
       "      <th>72.0</th>\n",
       "      <th>2013-01-01</th>\n",
       "      <td>0</td>\n",
       "      <td>1.0</td>\n",
       "      <td>11.0</td>\n",
       "      <td>4</td>\n",
       "      <td>0</td>\n",
       "      <td>2013</td>\n",
       "    </tr>\n",
       "  </tbody>\n",
       "</table>\n",
       "</div>"
      ],
      "text/plain": [
       "                                 True  congressional_district  \\\n",
       "state_house_district Month-Yr                                   \n",
       "62.0                 2013-01-01     0                    43.0   \n",
       "56.0                 2013-01-01     1                     9.0   \n",
       "40.0                 2013-01-01     0                     6.0   \n",
       "62.0                 2013-01-01     1                     6.0   \n",
       "72.0                 2013-01-01     0                     1.0   \n",
       "\n",
       "                                 state_senate_district  n_killed  n_injured  \\\n",
       "state_house_district Month-Yr                                                 \n",
       "62.0                 2013-01-01                   35.0         1          3   \n",
       "56.0                 2013-01-01                   13.0         1          3   \n",
       "40.0                 2013-01-01                   28.0         4          0   \n",
       "62.0                 2013-01-01                   27.0         2          2   \n",
       "72.0                 2013-01-01                   11.0         4          0   \n",
       "\n",
       "                                year1  \n",
       "state_house_district Month-Yr          \n",
       "62.0                 2013-01-01  2013  \n",
       "56.0                 2013-01-01  2013  \n",
       "40.0                 2013-01-01  2013  \n",
       "62.0                 2013-01-01  2013  \n",
       "72.0                 2013-01-01  2013  "
      ]
     },
     "execution_count": 80,
     "metadata": {},
     "output_type": "execute_result"
    }
   ],
   "source": [
    "df1['n_guns_involved_T_F'] = df1['n_guns_involved'].notna()\n",
    "usa = pd.get_dummies(df1['n_guns_involved_T_F'], drop_first=True)\n",
    "usa = usa.join(df1[['Month-Yr','congressional_district', 'state_senate_district','state_house_district','n_killed','n_injured','year1']])\n",
    "usa.dropna(subset=['congressional_district', 'state_senate_district','state_house_district'],inplace=True)\n",
    "usa = usa.set_index([\"state_house_district\", \"Month-Yr\"])\n",
    "usa.head()"
   ]
  },
  {
   "cell_type": "code",
   "execution_count": 81,
   "metadata": {},
   "outputs": [
    {
     "data": {
      "text/html": [
       "<table class=\"simpletable\">\n",
       "<caption>PooledOLS Estimation Summary</caption>\n",
       "<tr>\n",
       "  <th>Dep. Variable:</th>        <td>n_killed</td>     <th>  R-squared:         </th>     <td>0.0072</td>   \n",
       "</tr>\n",
       "<tr>\n",
       "  <th>Estimator:</th>            <td>PooledOLS</td>    <th>  R-squared (Between):</th>    <td>-0.0190</td>  \n",
       "</tr>\n",
       "<tr>\n",
       "  <th>No. Observations:</th>      <td>199850</td>      <th>  R-squared (Within):</th>     <td>0.0071</td>   \n",
       "</tr>\n",
       "<tr>\n",
       "  <th>Date:</th>             <td>Wed, Apr 28 2021</td> <th>  R-squared (Overall):</th>    <td>0.0072</td>   \n",
       "</tr>\n",
       "<tr>\n",
       "  <th>Time:</th>                 <td>18:33:46</td>     <th>  Log-likelihood     </th>   <td>-1.542e+05</td> \n",
       "</tr>\n",
       "<tr>\n",
       "  <th>Cov. Estimator:</th>       <td>Clustered</td>    <th>                     </th>        <td></td>      \n",
       "</tr>\n",
       "<tr>\n",
       "  <th></th>                          <td></td>         <th>  F-statistic:       </th>     <td>180.57</td>   \n",
       "</tr>\n",
       "<tr>\n",
       "  <th>Entities:</th>                <td>275</td>       <th>  P-value            </th>     <td>0.0000</td>   \n",
       "</tr>\n",
       "<tr>\n",
       "  <th>Avg Obs:</th>               <td>726.73</td>      <th>  Distribution:      </th>   <td>F(8,199841)</td>\n",
       "</tr>\n",
       "<tr>\n",
       "  <th>Min Obs:</th>               <td>1.0000</td>      <th>                     </th>        <td></td>      \n",
       "</tr>\n",
       "<tr>\n",
       "  <th>Max Obs:</th>               <td>3475.0</td>      <th>  F-statistic (robust):</th>   <td>24.159</td>   \n",
       "</tr>\n",
       "<tr>\n",
       "  <th></th>                          <td></td>         <th>  P-value            </th>     <td>0.0000</td>   \n",
       "</tr>\n",
       "<tr>\n",
       "  <th>Time periods:</th>            <td>63</td>        <th>  Distribution:      </th>   <td>F(8,199841)</td>\n",
       "</tr>\n",
       "<tr>\n",
       "  <th>Avg Obs:</th>               <td>3172.2</td>      <th>                     </th>        <td></td>      \n",
       "</tr>\n",
       "<tr>\n",
       "  <th>Min Obs:</th>               <td>12.000</td>      <th>                     </th>        <td></td>      \n",
       "</tr>\n",
       "<tr>\n",
       "  <th>Max Obs:</th>               <td>4638.0</td>      <th>                     </th>        <td></td>      \n",
       "</tr>\n",
       "<tr>\n",
       "  <th></th>                          <td></td>         <th>                     </th>        <td></td>      \n",
       "</tr>\n",
       "</table>\n",
       "<table class=\"simpletable\">\n",
       "<caption>Parameter Estimates</caption>\n",
       "<tr>\n",
       "             <td></td>            <th>Parameter</th> <th>Std. Err.</th> <th>T-stat</th>  <th>P-value</th> <th>Lower CI</th> <th>Upper CI</th>\n",
       "</tr>\n",
       "<tr>\n",
       "  <th>const</th>                   <td>1.1302</td>    <td>0.0881</td>   <td>12.824</td>  <td>0.0000</td>   <td>0.9575</td>   <td>1.3029</td> \n",
       "</tr>\n",
       "<tr>\n",
       "  <th>True</th>                    <td>-0.0236</td>   <td>0.0049</td>   <td>-4.8529</td> <td>0.0000</td>   <td>-0.0331</td>  <td>-0.0141</td>\n",
       "</tr>\n",
       "<tr>\n",
       "  <th>congressional_district</th>  <td>0.0036</td>    <td>0.0005</td>   <td>6.9504</td>  <td>0.0000</td>   <td>0.0026</td>   <td>0.0046</td> \n",
       "</tr>\n",
       "<tr>\n",
       "  <th>state_senate_district</th>   <td>-0.0011</td>   <td>0.0003</td>   <td>-4.0093</td> <td>0.0001</td>   <td>-0.0017</td>  <td>-0.0006</td>\n",
       "</tr>\n",
       "<tr>\n",
       "  <th>year1.2014</th>              <td>-0.8853</td>   <td>0.0876</td>   <td>-10.103</td> <td>0.0000</td>   <td>-1.0571</td>  <td>-0.7136</td>\n",
       "</tr>\n",
       "<tr>\n",
       "  <th>year1.2015</th>              <td>-0.8741</td>   <td>0.0882</td>   <td>-9.9149</td> <td>0.0000</td>   <td>-1.0469</td>  <td>-0.7013</td>\n",
       "</tr>\n",
       "<tr>\n",
       "  <th>year1.2016</th>              <td>-0.8803</td>   <td>0.0880</td>   <td>-10.001</td> <td>0.0000</td>   <td>-1.0528</td>  <td>-0.7078</td>\n",
       "</tr>\n",
       "<tr>\n",
       "  <th>year1.2017</th>              <td>-0.8546</td>   <td>0.0875</td>   <td>-9.7716</td> <td>0.0000</td>   <td>-1.0260</td>  <td>-0.6832</td>\n",
       "</tr>\n",
       "<tr>\n",
       "  <th>year1.2018</th>              <td>-0.8437</td>   <td>0.0882</td>   <td>-9.5679</td> <td>0.0000</td>   <td>-1.0165</td>  <td>-0.6708</td>\n",
       "</tr>\n",
       "</table><br/>id: 0x1c8c1d59400"
      ],
      "text/plain": [
       "                          PooledOLS Estimation Summary                          \n",
       "================================================================================\n",
       "Dep. Variable:               n_killed   R-squared:                        0.0072\n",
       "Estimator:                  PooledOLS   R-squared (Between):             -0.0190\n",
       "No. Observations:              199850   R-squared (Within):               0.0071\n",
       "Date:                Wed, Apr 28 2021   R-squared (Overall):              0.0072\n",
       "Time:                        18:33:46   Log-likelihood                -1.542e+05\n",
       "Cov. Estimator:             Clustered                                           \n",
       "                                        F-statistic:                      180.57\n",
       "Entities:                         275   P-value                           0.0000\n",
       "Avg Obs:                       726.73   Distribution:                F(8,199841)\n",
       "Min Obs:                       1.0000                                           \n",
       "Max Obs:                       3475.0   F-statistic (robust):             24.159\n",
       "                                        P-value                           0.0000\n",
       "Time periods:                      63   Distribution:                F(8,199841)\n",
       "Avg Obs:                       3172.2                                           \n",
       "Min Obs:                       12.000                                           \n",
       "Max Obs:                       4638.0                                           \n",
       "                                                                                \n",
       "                                   Parameter Estimates                                    \n",
       "==========================================================================================\n",
       "                        Parameter  Std. Err.     T-stat    P-value    Lower CI    Upper CI\n",
       "------------------------------------------------------------------------------------------\n",
       "const                      1.1302     0.0881     12.824     0.0000      0.9575      1.3029\n",
       "True                      -0.0236     0.0049    -4.8529     0.0000     -0.0331     -0.0141\n",
       "congressional_district     0.0036     0.0005     6.9504     0.0000      0.0026      0.0046\n",
       "state_senate_district     -0.0011     0.0003    -4.0093     0.0001     -0.0017     -0.0006\n",
       "year1.2014                -0.8853     0.0876    -10.103     0.0000     -1.0571     -0.7136\n",
       "year1.2015                -0.8741     0.0882    -9.9149     0.0000     -1.0469     -0.7013\n",
       "year1.2016                -0.8803     0.0880    -10.001     0.0000     -1.0528     -0.7078\n",
       "year1.2017                -0.8546     0.0875    -9.7716     0.0000     -1.0260     -0.6832\n",
       "year1.2018                -0.8437     0.0882    -9.5679     0.0000     -1.0165     -0.6708\n",
       "==========================================================================================\n",
       "PanelResults, id: 0x1c8c1d59400"
      ]
     },
     "execution_count": 81,
     "metadata": {},
     "output_type": "execute_result"
    }
   ],
   "source": [
    "y_usa = usa['n_killed']\n",
    "X_usa = usa.drop(['n_killed','n_injured'],axis=1)\n",
    "\n",
    "usa_exog = sm.add_constant(X_usa)\n",
    "usa_mod = PooledOLS(y_usa, usa_exog)\n",
    "usa_pooled_res = usa_mod.fit(cov_type='clustered', cluster_entity=True)\n",
    "usa_pooled_res"
   ]
  },
  {
   "cell_type": "code",
   "execution_count": 84,
   "metadata": {},
   "outputs": [
    {
     "data": {
      "text/plain": [
       "63"
      ]
     },
     "execution_count": 84,
     "metadata": {},
     "output_type": "execute_result"
    },
    {
     "data": {
      "image/png": "[encoded data removed]",
      "text/plain": [
       "<Figure size 432x288 with 1 Axes>"
      ]
     },
     "metadata": {
      "needs_background": "light"
     },
     "output_type": "display_data"
    },
    {
     "data": {
      "image/png": "[encoded data removed]",
      "text/plain": [
       "<Figure size 432x288 with 1 Axes>"
      ]
     },
     "metadata": {
      "needs_background": "light"
     },
     "output_type": "display_data"
    }
   ],
   "source": [
    "usa2 = usa2.groupby([usa2.index])[['n_killed']].agg(np.sum)\n",
    "plot_acf(usa2,lags = 40);\n",
    "plot_pacf(usa2,lags = 40);\n",
    "len(usa2)"
   ]
  },
  {
   "cell_type": "code",
   "execution_count": 86,
   "metadata": {},
   "outputs": [],
   "source": [
    "usa2_train = usa2.iloc[:43]\n",
    "usa2_test = usa2.iloc[43:]"
   ]
  },
  {
   "cell_type": "code",
   "execution_count": 87,
   "metadata": {},
   "outputs": [
    {
     "data": {
      "text/html": [
       "<table class=\"simpletable\">\n",
       "<caption>ARMA Model Results</caption>\n",
       "<tr>\n",
       "  <th>Dep. Variable:</th>     <td>n_killed</td>     <th>  No. Observations:  </th>    <td>63</td>   \n",
       "</tr>\n",
       "<tr>\n",
       "  <th>Model:</th>            <td>ARMA(1, 1)</td>    <th>  Log Likelihood     </th> <td>-410.392</td>\n",
       "</tr>\n",
       "<tr>\n",
       "  <th>Method:</th>             <td>css-mle</td>     <th>  S.D. of innovations</th>  <td>160.064</td>\n",
       "</tr>\n",
       "<tr>\n",
       "  <th>Date:</th>          <td>Wed, 28 Apr 2021</td> <th>  AIC                </th>  <td>828.784</td>\n",
       "</tr>\n",
       "<tr>\n",
       "  <th>Time:</th>              <td>18:36:53</td>     <th>  BIC                </th>  <td>837.356</td>\n",
       "</tr>\n",
       "<tr>\n",
       "  <th>Sample:</th>           <td>01-01-2013</td>    <th>  HQIC               </th>  <td>832.155</td>\n",
       "</tr>\n",
       "<tr>\n",
       "  <th></th>                 <td>- 03-01-2018</td>   <th>                     </th>     <td> </td>   \n",
       "</tr>\n",
       "</table>\n",
       "<table class=\"simpletable\">\n",
       "<tr>\n",
       "         <td></td>           <th>coef</th>     <th>std err</th>      <th>z</th>      <th>P>|z|</th>  <th>[0.025</th>    <th>0.975]</th>  \n",
       "</tr>\n",
       "<tr>\n",
       "  <th>const</th>          <td>  755.4022</td> <td>  403.625</td> <td>    1.872</td> <td> 0.061</td> <td>  -35.688</td> <td> 1546.492</td>\n",
       "</tr>\n",
       "<tr>\n",
       "  <th>ar.L1.n_killed</th> <td>    0.9724</td> <td>    0.027</td> <td>   36.029</td> <td> 0.000</td> <td>    0.920</td> <td>    1.025</td>\n",
       "</tr>\n",
       "<tr>\n",
       "  <th>ma.L1.n_killed</th> <td>   -0.2223</td> <td>    0.113</td> <td>   -1.969</td> <td> 0.049</td> <td>   -0.444</td> <td>   -0.001</td>\n",
       "</tr>\n",
       "</table>\n",
       "<table class=\"simpletable\">\n",
       "<caption>Roots</caption>\n",
       "<tr>\n",
       "    <td></td>   <th>            Real</th>  <th>         Imaginary</th> <th>         Modulus</th>  <th>        Frequency</th>\n",
       "</tr>\n",
       "<tr>\n",
       "  <th>AR.1</th> <td>           1.0284</td> <td>          +0.0000j</td> <td>           1.0284</td> <td>           0.0000</td>\n",
       "</tr>\n",
       "<tr>\n",
       "  <th>MA.1</th> <td>           4.4988</td> <td>          +0.0000j</td> <td>           4.4988</td> <td>           0.0000</td>\n",
       "</tr>\n",
       "</table>"
      ],
      "text/plain": [
       "<class 'statsmodels.iolib.summary.Summary'>\n",
       "\"\"\"\n",
       "                              ARMA Model Results                              \n",
       "==============================================================================\n",
       "Dep. Variable:               n_killed   No. Observations:                   63\n",
       "Model:                     ARMA(1, 1)   Log Likelihood                -410.392\n",
       "Method:                       css-mle   S.D. of innovations            160.064\n",
       "Date:                Wed, 28 Apr 2021   AIC                            828.784\n",
       "Time:                        18:36:53   BIC                            837.356\n",
       "Sample:                    01-01-2013   HQIC                           832.155\n",
       "                         - 03-01-2018                                         \n",
       "==================================================================================\n",
       "                     coef    std err          z      P>|z|      [0.025      0.975]\n",
       "----------------------------------------------------------------------------------\n",
       "const            755.4022    403.625      1.872      0.061     -35.688    1546.492\n",
       "ar.L1.n_killed     0.9724      0.027     36.029      0.000       0.920       1.025\n",
       "ma.L1.n_killed    -0.2223      0.113     -1.969      0.049      -0.444      -0.001\n",
       "                                    Roots                                    \n",
       "=============================================================================\n",
       "                  Real          Imaginary           Modulus         Frequency\n",
       "-----------------------------------------------------------------------------\n",
       "AR.1            1.0284           +0.0000j            1.0284            0.0000\n",
       "MA.1            4.4988           +0.0000j            4.4988            0.0000\n",
       "-----------------------------------------------------------------------------\n",
       "\"\"\""
      ]
     },
     "execution_count": 87,
     "metadata": {},
     "output_type": "execute_result"
    }
   ],
   "source": [
    "usa2_model = ARIMA(usa2['n_killed'],order=(1,0,1))\n",
    "usa2_result = usa2_model.fit(disp=-1)\n",
    "usa2_result.summary()"
   ]
  },
  {
   "cell_type": "code",
   "execution_count": 89,
   "metadata": {},
   "outputs": [],
   "source": [
    "usa2_start = len(usa2_train)\n",
    "usa2_end = len(usa2_train)+len(usa2_test)-1\n",
    "usa2_prediction = usa2_result.predict(start=usa2_start,end=usa2_end,typ='levels')"
   ]
  },
  {
   "cell_type": "code",
   "execution_count": 90,
   "metadata": {},
   "outputs": [
    {
     "data": {
      "text/plain": [
       "<matplotlib.axes._subplots.AxesSubplot at 0x1c88e565760>"
      ]
     },
     "execution_count": 90,
     "metadata": {},
     "output_type": "execute_result"
    },
    {
     "data": {
      "image/png": "[encoded data removed]",
      "text/plain": [
       "<Figure size 864x576 with 1 Axes>"
      ]
     },
     "metadata": {
      "needs_background": "light"
     },
     "output_type": "display_data"
    }
   ],
   "source": [
    "fig, ax = plt.subplots()\n",
    "usa2_test[['n_killed']].plot(legend=True,figsize=(12,8),ax=ax)\n",
    "usa2_prediction.plot(legend=True,figsize=(12,8),ax=ax)"
   ]
  },
  {
   "cell_type": "code",
   "execution_count": null,
   "metadata": {},
   "outputs": [],
   "source": [
    "df1.drop(['incident_id','incident_url_fields_missing','n_guns_involved_T_F'],axis=1).corr()"
   ]
  },
  {
   "cell_type": "code",
   "execution_count": null,
   "metadata": {},
   "outputs": [],
   "source": [
    "plt.hist(df1['n_guns_involved'], bins=30,range=(0,10));"
   ]
  },
  {
   "cell_type": "markdown",
   "metadata": {},
   "source": [
    "Number of n_guns_involved will be ideal but unfortunately a good portion of the data are missing.\n",
    "Zip code will also be ideal."
   ]
  },
  {
   "cell_type": "code",
   "execution_count": null,
   "metadata": {},
   "outputs": [],
   "source": []
  }
 ],
 "metadata": {
  "kernelspec": {
   "display_name": "Python 3",
   "language": "python",
   "name": "python3"
  },
  "language_info": {
   "codemirror_mode": {
    "name": "ipython",
    "version": 3
   },
   "file_extension": ".py",
   "mimetype": "text/x-python",
   "name": "python",
   "nbconvert_exporter": "python",
   "pygments_lexer": "ipython3",
   "version": "3.8.3"
  },
  "latex_envs": {
   "LaTeX_envs_menu_present": true,
   "autoclose": false,
   "autocomplete": true,
   "bibliofile": "biblio.bib",
   "cite_by": "apalike",
   "current_citInitial": 1,
   "eqLabelWithNumbers": true,
   "eqNumInitial": 1,
   "hotkeys": {
    "equation": "Ctrl-E",
    "itemize": "Ctrl-I"
   },
   "labels_anchors": false,
   "latex_user_defs": false,
   "report_style_numbering": false,
   "user_envs_cfg": false
  },
  "varInspector": {
   "cols": {
    "lenName": 16,
    "lenType": 16,
    "lenVar": 40
   },
   "kernels_config": {
    "python": {
     "delete_cmd_postfix": "",
     "delete_cmd_prefix": "del ",
     "library": "var_list.py",
     "varRefreshCmd": "print(var_dic_list())"
    },
    "r": {
     "delete_cmd_postfix": ") ",
     "delete_cmd_prefix": "rm(",
     "library": "var_list.r",
     "varRefreshCmd": "cat(var_dic_list()) "
    }
   },
   "types_to_exclude": [
    "module",
    "function",
    "builtin_function_or_method",
    "instance",
    "_Feature"
   ],
   "window_display": false
  }
 },
 "nbformat": 4,
 "nbformat_minor": 2
}
